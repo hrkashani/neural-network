{
  "cells": [
    {
      "cell_type": "code",
      "execution_count": null,
      "metadata": {
        "id": "eJQNr1_chv70"
      },
      "outputs": [],
      "source": [
        "\n",
        "\n"
      ]
    },
    {
      "cell_type": "code",
      "execution_count": null,
      "metadata": {
        "id": "TFI13QLaCWKY"
      },
      "outputs": [],
      "source": [
        ""
      ]
    },
    {
      "cell_type": "code",
      "execution_count": 2,
      "metadata": {
        "id": "6L-04Z_B-cO4"
      },
      "outputs": [],
      "source": [
        "class logic:\n",
        "  def __init__(self,in1,in2):\n",
        "    self.in1 = in1\n",
        "    self.in2 = in2\n",
        "    self.teta = 2\n",
        "  def And (self):\n",
        "    net = 1*self.in1 + 1* self.in2;\n",
        "    if net >= self.teta :\n",
        "      out =1\n",
        "    else:\n",
        "      out=0\n",
        "    return out\n",
        "  def Or (self):\n",
        "    net = 2*self.in1 + 2* self.in2;\n",
        "    if net >= self.teta :\n",
        "      out =1\n",
        "    else:\n",
        "      out=0\n",
        "    return out   \n",
        "  def AndNot (self):\n",
        "    net = 2*self.in1 + (-1)* self.in2;\n",
        "    if net >= self.teta :\n",
        "      out =1\n",
        "    else:\n",
        "      out=0\n",
        "    return out \n",
        "  def Xor (self):\n",
        "    Z1= self.AndNot()\n",
        "    a = self.in1\n",
        "    b=self.in2\n",
        "    self.in1=b\n",
        "    self.in2=a\n",
        "    Z2= self.AndNot()\n",
        "    self.in1=Z1\n",
        "    self.in2=Z2    \n",
        "    Y= self.Or()\n",
        "    self.in1=a\n",
        "    self.in2=b\n",
        "    return Y\n"
      ]
    },
    {
      "cell_type": "code",
      "execution_count": 5,
      "metadata": {
        "colab": {
          "base_uri": "https://localhost:8080/"
        },
        "id": "WV7gdqscEOa7",
        "outputId": "422c44e0-5c97-4b42-b4ad-15dfbc397657"
      },
      "outputs": [
        {
          "output_type": "stream",
          "name": "stdout",
          "text": [
            "hasel 00 ba 00 = 000 hast\n",
            "hasel 00 ba 01 = 001 hast\n",
            "hasel 00 ba 10 = 010 hast\n",
            "hasel 00 ba 11 = 011 hast\n",
            "hasel 01 ba 01 = 010 hast\n",
            "hasel 01 ba 10 = 011 hast\n",
            "hasel 01 ba 11 = 100 hast\n",
            "hasel 10 ba 10 = 100 hast\n",
            "hasel 10 ba 11 = 101 hast\n",
            "hasel 11 ba 11 = 110 hast\n"
          ]
        }
      ],
      "source": [
        "x1=[0,0,0,0,1,1,1,0,0,1]\n",
        "x2=[0,0,0,0,0,0,0,1,1,1]\n",
        "y1=[0,1,0,1,1,0,1,0,1,1]\n",
        "y2=[0,0,1,1,0,1,1,1,1,1]\n",
        "for i in range(0,len(x1)) :\n",
        "  k_0 = logic(x1[i],y1[i])\n",
        "  O0= k_0.Xor()\n",
        "  \n",
        "  k_1= logic(x1[i],y1[i])\n",
        "  j_1=k_1.And()\n",
        "  c_1=logic(x2[i],y2[i])\n",
        "  d_1=c_1.Xor()\n",
        "  e_1=logic(j_1,d_1)\n",
        "  O1=e_1.Xor()\n",
        "\n",
        "  k_2= logic(x1[i],y1[i])\n",
        "  j_2=k_2.And()\n",
        "  p_2= logic(x2[i],y2[i])\n",
        "  q_2=p_2.And()\n",
        "  c_2=logic(x2[i],y2[i])\n",
        "  d_2=c_2.Xor()\n",
        "  e_2=logic(j_2,d_2)\n",
        "  w_2=e_2.And()\n",
        "  m_2=logic(w_2,q_2)\n",
        "  O2= m_2.Or()\n",
        "  \n",
        "  print(\"hasel %s%s ba %s%s = %s%s%s hast\" %(x2[i],x1[i],y2[i],y1[i],O2,O1,O0))\n",
        "\n",
        "\n"
      ]
    }
  ],
  "metadata": {
    "colab": {
      "collapsed_sections": [],
      "name": "q1.ipynb",
      "provenance": []
    },
    "kernelspec": {
      "display_name": "Python 3",
      "name": "python3"
    },
    "language_info": {
      "name": "python"
    }
  },
  "nbformat": 4,
  "nbformat_minor": 0
}