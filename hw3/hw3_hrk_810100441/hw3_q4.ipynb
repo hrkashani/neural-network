{
  "nbformat": 4,
  "nbformat_minor": 0,
  "metadata": {
    "colab": {
      "name": "hw3_q4.ipynb",
      "provenance": []
    },
    "kernelspec": {
      "name": "python3",
      "display_name": "Python 3"
    },
    "language_info": {
      "name": "python"
    }
  },
  "cells": [
    {
      "cell_type": "code",
      "execution_count": 77,
      "metadata": {
        "id": "hAv-mymnUjkk"
      },
      "outputs": [],
      "source": [
        "import numpy as np\n",
        "import matplotlib.pyplot as plt\n",
        "from scipy.spatial import distance\n"
      ]
    },
    {
      "cell_type": "code",
      "source": [
        "letters = { 'C':[1,0,0,0,0,1,1],\n",
        "            'S':[1,0,1,0,0,1,1],\n",
        "            'K':[1,0,0,1,0,1,1],\n",
        "            'F':[1,0,0,0,1,1,0],\n",
        "            'P':[1,0,1,0,0,0,0],\n",
        "            'H':[1,0,0,1,0,0,0],\n",
        "            'G':[1,0,0,0,1,1,1],\n",
        "            'L':[1,0,0,1,1,0,0],\n",
        "            'i':[1,1,0,1,0,0,1],\n",
        "            'l':[1,1,0,1,1,0,0], \n",
        "            'o':[1,1,0,1,1,1,1],\n",
        "            'n':[1,1,0,1,1,1,0],\n",
        "            't':[1,1,1,0,1,0,0],\n",
        "            'r':[1,1,1,0,0,1,0], \n",
        "            'a':[1,1,0,0,0,0,1],\n",
        "            'y':[1,1,1,1,0,0,1], \n",
        "            'e':[1,1,0,0,1,0,1], \n",
        "            'd':[1,1,0,0,1,0,0],\n",
        "            's':[1,1,1,0,0,1,1],\n",
        "            'm':[1,1,0,1,1,0,1],\n",
        "            'w':[1,1,1,0,1,1,1], \n",
        "            'k':[1,1,0,1,0,1,1], }"
      ],
      "metadata": {
        "id": "IHi9vaioUywX"
      },
      "execution_count": 95,
      "outputs": []
    },
    {
      "cell_type": "code",
      "source": [
        "x=list(letters.values())\n",
        "for i in range(len(letters)):\n",
        "  for j in range(7):\n",
        "    if x[i][j] == 0:\n",
        "      x[i][j]=-1\n",
        "j=0\n",
        "for i in list(letters.keys()):\n",
        "  letters[i]=x[j]\n",
        "  j =j+1\n",
        "print(letters)"
      ],
      "metadata": {
        "colab": {
          "base_uri": "https://localhost:8080/"
        },
        "id": "m1ekhVhrXsOn",
        "outputId": "fdb44278-1c4e-4f17-b9ec-b28ef78ce39f"
      },
      "execution_count": 96,
      "outputs": [
        {
          "output_type": "stream",
          "name": "stdout",
          "text": [
            "{'C': [1, -1, -1, -1, -1, 1, 1], 'S': [1, -1, 1, -1, -1, 1, 1], 'K': [1, -1, -1, 1, -1, 1, 1], 'F': [1, -1, -1, -1, 1, 1, -1], 'P': [1, -1, 1, -1, -1, -1, -1], 'H': [1, -1, -1, 1, -1, -1, -1], 'G': [1, -1, -1, -1, 1, 1, 1], 'L': [1, -1, -1, 1, 1, -1, -1], 'i': [1, 1, -1, 1, -1, -1, 1], 'l': [1, 1, -1, 1, 1, -1, -1], 'o': [1, 1, -1, 1, 1, 1, 1], 'n': [1, 1, -1, 1, 1, 1, -1], 't': [1, 1, 1, -1, 1, -1, -1], 'r': [1, 1, 1, -1, -1, 1, -1], 'a': [1, 1, -1, -1, -1, -1, 1], 'y': [1, 1, 1, 1, -1, -1, 1], 'e': [1, 1, -1, -1, 1, -1, 1], 'd': [1, 1, -1, -1, 1, -1, -1], 's': [1, 1, 1, -1, -1, 1, 1], 'm': [1, 1, -1, 1, 1, -1, 1], 'w': [1, 1, 1, -1, 1, 1, 1], 'k': [1, 1, -1, 1, -1, 1, 1]}\n"
          ]
        }
      ]
    },
    {
      "cell_type": "code",
      "source": [
        "print(letters)"
      ],
      "metadata": {
        "colab": {
          "base_uri": "https://localhost:8080/"
        },
        "id": "dRg8f0tqi3DX",
        "outputId": "3f901d21-c0bc-47e5-80df-de69618dfd29"
      },
      "execution_count": 64,
      "outputs": [
        {
          "output_type": "stream",
          "name": "stdout",
          "text": [
            "{'C': [1, -1, -1, -1, -1, 1, 1], 'S': [1, -1, 1, -1, -1, 1, 1], 'K': [1, -1, -1, 1, -1, 1, 1], 'F': [1, -1, -1, -1, 1, 1, -1], 'P': [1, -1, 1, -1, -1, -1, -1], 'H': [1, -1, -1, 1, -1, -1, -1], 'G': [1, -1, -1, -1, 1, 1, 1], 'L': [1, -1, -1, 1, 1, -1, -1], 'i': [1, 1, -1, 1, -1, -1, 1], 'l': [1, 1, -1, 1, 1, -1, -1], 'o': [1, 1, -1, 1, 1, 1, 1], 'n': [1, 1, -1, 1, 1, 1, -1], 't': [1, 1, 1, -1, 1, -1, -1], 'r': [1, 1, 1, -1, -1, 1, -1], 'a': [1, 1, -1, -1, -1, -1, 1], 'y': [1, 1, 1, 1, -1, -1, 1], 'e': [1, 1, -1, -1, 1, -1, 1], 'd': [1, 1, -1, -1, 1, -1, -1], 's': [1, 1, 1, -1, -1, 1, 1], 'm': [1, 1, -1, 1, 1, -1, 1], 'w': [1, 1, 1, -1, 1, 1, 1], 'k': [1, 1, -1, 1, -1, 1, 1]}\n"
          ]
        }
      ]
    },
    {
      "cell_type": "code",
      "source": [
        "Clinton = np.array([letters['C'],letters['l'],letters['i'],letters['n'],letters['t'],letters['o'],letters['n']])\n",
        "Hillary = np.array([letters['H'],letters['i'],letters['l'],letters['l'],letters['a'],letters['r'],letters['y']])\n",
        "Kenstar = np.array([letters['K'],letters['e'],letters['n'],letters['s'],letters['t'],letters['a'],letters['r']])\n",
        "President = np.array([letters['P'],letters['r'],letters['e'],letters['s'],letters['i'],letters['d'],letters['e'],letters['n'],letters['t']])\n",
        "FirstLady = np.array([letters['F'],letters['i'],letters['r'],letters['s'],letters['t'],letters['L'],letters['a'],letters['d'],letters['y']])\n",
        "Gentleman = np.array([letters['G'],letters['e'],letters['n'],letters['t'],letters['l'],letters['e'],letters['m'],letters['a'],letters['n']])"
      ],
      "metadata": {
        "id": "dp5YyPXLh46_"
      },
      "execution_count": 97,
      "outputs": []
    },
    {
      "cell_type": "code",
      "source": [
        "S = np.hstack((Clinton.reshape(-1,1), Hillary.reshape(-1,1), Kenstar.reshape(-1,1)))\n",
        "T = np.hstack((President.reshape(-1,1), FirstLady.reshape(-1,1), Gentleman.reshape(-1,1)))\n",
        "S,T"
      ],
      "metadata": {
        "colab": {
          "base_uri": "https://localhost:8080/"
        },
        "id": "GN1VSPYOlzqe",
        "outputId": "4a0b118d-8b65-4288-c615-60589f35b0a4"
      },
      "execution_count": 99,
      "outputs": [
        {
          "output_type": "execute_result",
          "data": {
            "text/plain": [
              "(array([[ 1,  1,  1],\n",
              "        [-1, -1, -1],\n",
              "        [-1, -1, -1],\n",
              "        [-1,  1,  1],\n",
              "        [-1, -1, -1],\n",
              "        [ 1, -1,  1],\n",
              "        [ 1, -1,  1],\n",
              "        [ 1,  1,  1],\n",
              "        [ 1,  1,  1],\n",
              "        [-1, -1, -1],\n",
              "        [ 1,  1, -1],\n",
              "        [ 1, -1,  1],\n",
              "        [-1, -1, -1],\n",
              "        [-1,  1,  1],\n",
              "        [ 1,  1,  1],\n",
              "        [ 1,  1,  1],\n",
              "        [-1, -1, -1],\n",
              "        [ 1,  1,  1],\n",
              "        [-1,  1,  1],\n",
              "        [-1, -1,  1],\n",
              "        [ 1, -1, -1],\n",
              "        [ 1,  1,  1],\n",
              "        [ 1,  1,  1],\n",
              "        [-1, -1,  1],\n",
              "        [ 1,  1, -1],\n",
              "        [ 1,  1, -1],\n",
              "        [ 1, -1,  1],\n",
              "        [-1, -1,  1],\n",
              "        [ 1,  1,  1],\n",
              "        [ 1,  1,  1],\n",
              "        [ 1, -1,  1],\n",
              "        [-1, -1, -1],\n",
              "        [ 1, -1,  1],\n",
              "        [-1, -1, -1],\n",
              "        [-1,  1, -1],\n",
              "        [ 1,  1,  1],\n",
              "        [ 1,  1,  1],\n",
              "        [-1,  1, -1],\n",
              "        [ 1, -1, -1],\n",
              "        [ 1, -1, -1],\n",
              "        [ 1,  1, -1],\n",
              "        [ 1, -1,  1],\n",
              "        [ 1,  1,  1],\n",
              "        [ 1,  1,  1],\n",
              "        [-1,  1,  1],\n",
              "        [ 1,  1, -1],\n",
              "        [ 1, -1, -1],\n",
              "        [ 1, -1,  1],\n",
              "        [-1,  1, -1]]), array([[ 1,  1,  1],\n",
              "        [-1, -1, -1],\n",
              "        [ 1, -1, -1],\n",
              "        [-1, -1, -1],\n",
              "        [-1,  1,  1],\n",
              "        [-1,  1,  1],\n",
              "        [-1, -1,  1],\n",
              "        [ 1,  1,  1],\n",
              "        [ 1,  1,  1],\n",
              "        [ 1, -1, -1],\n",
              "        [-1,  1, -1],\n",
              "        [-1, -1,  1],\n",
              "        [ 1, -1, -1],\n",
              "        [-1,  1,  1],\n",
              "        [ 1,  1,  1],\n",
              "        [ 1,  1,  1],\n",
              "        [-1,  1, -1],\n",
              "        [-1, -1,  1],\n",
              "        [ 1, -1,  1],\n",
              "        [-1,  1,  1],\n",
              "        [ 1, -1, -1],\n",
              "        [ 1,  1,  1],\n",
              "        [ 1,  1,  1],\n",
              "        [ 1,  1,  1],\n",
              "        [-1, -1, -1],\n",
              "        [-1, -1,  1],\n",
              "        [ 1,  1, -1],\n",
              "        [ 1,  1, -1],\n",
              "        [ 1,  1,  1],\n",
              "        [ 1,  1,  1],\n",
              "        [-1,  1, -1],\n",
              "        [ 1, -1,  1],\n",
              "        [-1,  1,  1],\n",
              "        [-1, -1, -1],\n",
              "        [ 1, -1, -1],\n",
              "        [ 1,  1,  1],\n",
              "        [ 1, -1,  1],\n",
              "        [-1, -1, -1],\n",
              "        [-1,  1, -1],\n",
              "        [ 1,  1,  1],\n",
              "        [-1, -1, -1],\n",
              "        [-1, -1,  1],\n",
              "        [ 1,  1,  1],\n",
              "        [ 1,  1,  1],\n",
              "        [-1, -1, -1],\n",
              "        [-1, -1,  1],\n",
              "        [ 1, -1,  1],\n",
              "        [-1, -1, -1],\n",
              "        [ 1,  1,  1],\n",
              "        [ 1,  1,  1],\n",
              "        [ 1,  1,  1],\n",
              "        [-1, -1, -1],\n",
              "        [ 1, -1, -1],\n",
              "        [ 1,  1, -1],\n",
              "        [ 1, -1, -1],\n",
              "        [-1, -1,  1],\n",
              "        [ 1,  1,  1],\n",
              "        [ 1,  1,  1],\n",
              "        [ 1,  1, -1],\n",
              "        [-1,  1,  1],\n",
              "        [ 1, -1,  1],\n",
              "        [-1, -1,  1],\n",
              "        [-1,  1, -1]]))"
            ]
          },
          "metadata": {},
          "execution_count": 99
        }
      ]
    },
    {
      "cell_type": "code",
      "source": [
        "FirstLady "
      ],
      "metadata": {
        "colab": {
          "base_uri": "https://localhost:8080/"
        },
        "id": "vZGRg-6trEwa",
        "outputId": "9c065872-313f-4483-994b-347665d5d14f"
      },
      "execution_count": 100,
      "outputs": [
        {
          "output_type": "execute_result",
          "data": {
            "text/plain": [
              "array([[ 1, -1, -1, -1,  1,  1, -1],\n",
              "       [ 1,  1, -1,  1, -1, -1,  1],\n",
              "       [ 1,  1,  1, -1, -1,  1, -1],\n",
              "       [ 1,  1,  1, -1, -1,  1,  1],\n",
              "       [ 1,  1,  1, -1,  1, -1, -1],\n",
              "       [ 1, -1, -1,  1,  1, -1, -1],\n",
              "       [ 1,  1, -1, -1, -1, -1,  1],\n",
              "       [ 1,  1, -1, -1,  1, -1, -1],\n",
              "       [ 1,  1,  1,  1, -1, -1,  1]])"
            ]
          },
          "metadata": {},
          "execution_count": 100
        }
      ]
    },
    {
      "cell_type": "code",
      "source": [
        "W = np.zeros((S.shape[0], T.shape[0]))\n",
        "for i in range(3):\n",
        "    W += S[:, i].reshape(-1, 1) @ T[:, i].reshape(-1, 1).T\n",
        "print(W)"
      ],
      "metadata": {
        "colab": {
          "base_uri": "https://localhost:8080/"
        },
        "id": "d_6J_8vll4Xq",
        "outputId": "b8bcec9c-c0c7-4615-ef48-0b51a2e1c74f"
      },
      "execution_count": 142,
      "outputs": [
        {
          "output_type": "stream",
          "name": "stdout",
          "text": [
            "[[ 3. -3. -1. ...  1. -1. -1.]\n",
            " [-3.  3.  1. ... -1.  1.  1.]\n",
            " [-3.  3.  1. ... -1.  1.  1.]\n",
            " ...\n",
            " [-1.  1.  3. ...  1. -1. -1.]\n",
            " [ 1. -1.  1. ...  3.  1. -3.]\n",
            " [-1.  1. -1. ... -3. -1.  3.]]\n"
          ]
        }
      ]
    },
    {
      "cell_type": "code",
      "source": [
        "def func (input, threshold):\n",
        "  output = np.copy(input)\n",
        "  output[output > threshold] = 1\n",
        "  output[output < threshold] = -1\n",
        "  return output\n",
        "def YtoX(t, W):\n",
        "    T1 = np.copy(t.reshape(-1, 1))\n",
        "    return func (T1.T @ W.T, 0).astype('int32').reshape(7, 7)\n",
        "def XtoY(s, W):\n",
        "    S = np.copy(s.reshape(-1, 1))\n",
        "    return func (S.T @ W, 0).astype('int32').reshape(9,7)"
      ],
      "metadata": {
        "id": "QaPtguKcmMOj"
      },
      "execution_count": 145,
      "outputs": []
    },
    {
      "cell_type": "code",
      "source": [
        "for j in range(3):\n",
        "  name_1 = []\n",
        "  for i in range(9):\n",
        "    Ti = list(T[:,j].reshape(9,7)[i])\n",
        "\n",
        "    position_2 = list(letters.values()).index(Ti)\n",
        "    name_1 += list(letters.keys())[position_2]\n",
        "  name = []\n",
        "  for i in range(7):\n",
        "    Si = list(YtoX(T[:,j],W)[i])\n",
        "    position_1 =  list(letters.values()).index(Si)\n",
        "    name += list(letters.keys())[position_1]\n",
        "  print('semat '  + ' ' + name_1[0]+name_1[1]+name_1[2]+name_1[3]+name_1[4]+name_1[5]+name_1[6]+name_1[7]+name_1[8] + ' ' + 'baraye' + ' ' + name[0]+name[1]+name[2]+name[3]+name[4]+name[5]+name[6] +'ast')"
      ],
      "metadata": {
        "colab": {
          "base_uri": "https://localhost:8080/"
        },
        "id": "9cC8Xyp0oVV7",
        "outputId": "5cea3a2c-7fd1-4983-aaa2-a14c749f0756"
      },
      "execution_count": 143,
      "outputs": [
        {
          "output_type": "stream",
          "name": "stdout",
          "text": [
            "semat  President baraye Clintonast\n",
            "semat  FirstLady baraye Hillaryast\n",
            "semat  Gentleman baraye Kenstarast\n"
          ]
        }
      ]
    },
    {
      "cell_type": "code",
      "source": [
        "for j in range(3):\n",
        "  name_2 = []\n",
        "  for i in range(7):\n",
        "    Ti =list(S[:,j].reshape(7,7)[i])\n",
        "    position_3 =  list(letters.values()).index(Ti)\n",
        "    name_2 += list(letters.keys())[position_3]\n",
        "  name_3 = []\n",
        "  for i in range(9):\n",
        "    Si = list(XtoY(S[:,j],W)[i])\n",
        "    position_4 = list(letters.values()).index(Si)\n",
        "    name_3 += list(letters.keys())[position_4]\n",
        "  print(' ' + name_2[0]+name_2[1]+name_2[2]+name_2[3]+name_2[4]+name_2[5]+name_2[6] + ' ' + 'semat' + ' ' + name_3[0]+name_3[1]+name_3[2]+name_3[3]+name_3[4]+name_3[5]+name_3[6]+name_3[7]+name_3[8]+'ra darad')"
      ],
      "metadata": {
        "colab": {
          "base_uri": "https://localhost:8080/"
        },
        "id": "MkwYiJRxt4IL",
        "outputId": "32763339-ff6e-4fec-f016-bc686b188da1"
      },
      "execution_count": 144,
      "outputs": [
        {
          "output_type": "stream",
          "name": "stdout",
          "text": [
            " Clinton semat Presidentra darad\n",
            " Hillary semat FirstLadyra darad\n",
            " Kenstar semat Gentlemanra darad\n"
          ]
        }
      ]
    },
    {
      "cell_type": "code",
      "source": [
        "def Noise_Net (input, percent):\n",
        "    noisyOutput = input.copy().reshape(-1, 1)\n",
        "    choosenIndices = np.random.choice(noisyOutput.size, int(percent * noisyOutput.size / 100), replace=False)\n",
        "    for index in choosenIndices:\n",
        "        if noisyOutput[index] == 1:\n",
        "            noisyOutput[index] = -1\n",
        "        else:\n",
        "            noisyOutput[index] = 1\n",
        "\n",
        "    return noisyOutput.reshape(input.shape[0], input.shape[1])\n",
        "def test_NET (predA, A):\n",
        "    return np.sum((predA == A).astype('int')) / A.size"
      ],
      "metadata": {
        "id": "LnbUZcGvwvVa"
      },
      "execution_count": 111,
      "outputs": []
    },
    {
      "cell_type": "code",
      "source": [
        "iteration = 0\n",
        "pc10 = 0\n",
        "ph10 = 0\n",
        "pk10 = 0\n",
        "pp10 = 0\n",
        "pf10 = 0\n",
        "pg10 = 0\n",
        "while iteration < 100:\n",
        "  noisypc10 = Noise_Net(Clinton, 10)\n",
        "  noisyph10 = Noise_Net(Hillary, 10)\n",
        "  noisypk10 = Noise_Net(Kenstar, 10)\n",
        "  noisypp10 = Noise_Net(President, 10)\n",
        "  noisypf10 = Noise_Net(FirstLady, 10)\n",
        "  noisypg10 = Noise_Net(Gentleman, 10)\n",
        "  \n",
        "  predpc10 = XtoY(noisypc10, W)\n",
        "  predph10 = XtoY(noisyph10, W)\n",
        "  predpk10 = XtoY(noisypk10, W)\n",
        "  predpp10 = YtoX(noisypp10, W)\n",
        "  predpf10 = YtoX(noisypf10, W)\n",
        "  predpg10 = YtoX(noisypg10, W)\n",
        "\n",
        "  if test_NET(predpc10, President) == 1:\n",
        "    pc10 += 1\n",
        "  if test_NET(predph10, FirstLady) == 1:\n",
        "    ph10 += 1\n",
        "  if test_NET(predpk10, Gentleman) == 1:\n",
        "    pk10 += 1\n",
        "  if test_NET(predpp10, Clinton) == 1:\n",
        "    pp10 += 1\n",
        "  if test_NET(predpf10, Hillary) == 1:\n",
        "    pf10 += 1\n",
        "  if test_NET(predpg10, Kenstar) == 1:\n",
        "    pg10 += 1\n",
        "  iteration += 1\n",
        "print('dar %f darsad mavaghe baraye 10 darsad khata hefz semat Clinton shabake dorost kar karde'%int(pc10))\n",
        "print('dar %f darsad mavaghe baraye 10 darsad khata hefz semat Hillary shabake dorost kar karde'%int(ph10))\n",
        "print('dar %f darsad mavaghe baraye 10 darsad khata hefz semat Kenstar shabake dorost kar karde'%int(pk10))\n",
        "print('dar %f darsad mavaghe baraye 10 darsad khata hefz name President shabake dorost kar karde'%int(pp10))\n",
        "print('dar %f darsad mavaghe baraye 10 darsad khata hefz name FirstLady shabake dorost kar karde'%int(pf10))\n",
        "print('dar %f darsad mavaghe baraye 10 darsad khata hefz name Gentleman shabake dorost kar karde'%int(pg10))\n"
      ],
      "metadata": {
        "colab": {
          "base_uri": "https://localhost:8080/"
        },
        "id": "i4tXmQSPx2Ou",
        "outputId": "60638087-8d4b-4bcd-f382-e4e0143da4fc"
      },
      "execution_count": 112,
      "outputs": [
        {
          "output_type": "stream",
          "name": "stdout",
          "text": [
            "dar 100.000000 darsad mavaghe baraye 10 darsad khata hefz semat Clinton shabake dorost kar karde\n",
            "dar 100.000000 darsad mavaghe baraye 10 darsad khata hefz semat Hillary shabake dorost kar karde\n",
            "dar 100.000000 darsad mavaghe baraye 10 darsad khata hefz semat Kenstar shabake dorost kar karde\n",
            "dar 100.000000 darsad mavaghe baraye 10 darsad khata hefz name President shabake dorost kar karde\n",
            "dar 99.000000 darsad mavaghe baraye 10 darsad khata hefz name FirstLady shabake dorost kar karde\n",
            "dar 100.000000 darsad mavaghe baraye 10 darsad khata hefz name Gentleman shabake dorost kar karde\n"
          ]
        }
      ]
    },
    {
      "cell_type": "code",
      "source": [
        "iteration = 0\n",
        "pc20 = 0\n",
        "ph20 = 0\n",
        "pk20 = 0\n",
        "pp20 = 0\n",
        "pf20 = 0\n",
        "pg20 = 0\n",
        "while iteration < 100:\n",
        "  noisypc20 = Noise_Net(Clinton, 20)\n",
        "  noisyph20 = Noise_Net(Hillary, 20)\n",
        "  noisypk20 = Noise_Net(Kenstar, 20)\n",
        "  noisypp20 = Noise_Net(President, 20)\n",
        "  noisypf20 = Noise_Net(FirstLady, 20)\n",
        "  noisypg20 = Noise_Net(Gentleman, 20)\n",
        "  \n",
        "  predpc20 = XtoY(noisypc20, W)\n",
        "  predph20 = XtoY(noisyph20, W)\n",
        "  predpk20 = XtoY(noisypk20, W)\n",
        "  predpp20 = YtoX(noisypp20, W)\n",
        "  predpf20 = YtoX(noisypf20, W)\n",
        "  predpg20 = YtoX(noisypg20, W)\n",
        "\n",
        "  if test_NET(predpc20, President) == 1:\n",
        "    pc20 += 1\n",
        "  if test_NET(predph20, FirstLady) == 1:\n",
        "    ph20 += 1\n",
        "  if test_NET(predpk20, Gentleman) == 1:\n",
        "    pk20 += 1\n",
        "  if test_NET(predpp20, Clinton) == 1:\n",
        "    pp20 += 1\n",
        "  if test_NET(predpf20, Hillary) == 1:\n",
        "    pf20 += 1\n",
        "  if test_NET(predpg20, Kenstar) == 1:\n",
        "    pg20 += 1\n",
        "  iteration += 1\n",
        "print('dar %f darsad mavaghe baraye 20 darsad khata hefz semat Clinton shabake dorost kar karde'%int(pc20))\n",
        "print('dar %f darsad mavaghe baraye 20 darsad khata hefz semat Hillary shabake dorost kar karde'%int(ph20))\n",
        "print('dar %f darsad mavaghe baraye 20 darsad khata hefz semat Kenstar shabake dorost kar karde'%int(pk20))\n",
        "print('dar %f darsad mavaghe baraye 20 darsad khata hefz name President shabake dorost kar karde'%int(pp20))\n",
        "print('dar %f darsad mavaghe baraye 20 darsad khata hefz name FirstLady shabake dorost kar karde'%int(pf20))\n",
        "print('dar %f darsad mavaghe baraye 20 darsad khata hefz name Gentleman shabake dorost kar karde'%int(pg20))"
      ],
      "metadata": {
        "colab": {
          "base_uri": "https://localhost:8080/"
        },
        "id": "ynXO3Xka0fWV",
        "outputId": "e049abdd-3739-41cb-9439-24c774fd8131"
      },
      "execution_count": 135,
      "outputs": [
        {
          "output_type": "stream",
          "name": "stdout",
          "text": [
            "dar 80.000000 darsad mavaghe baraye 20 darsad khata hefz semat Clinton shabake dorost kar karde\n",
            "dar 70.000000 darsad mavaghe baraye 20 darsad khata hefz semat Hillary shabake dorost kar karde\n",
            "dar 55.000000 darsad mavaghe baraye 20 darsad khata hefz semat Kenstar shabake dorost kar karde\n",
            "dar 69.000000 darsad mavaghe baraye 20 darsad khata hefz name President shabake dorost kar karde\n",
            "dar 66.000000 darsad mavaghe baraye 20 darsad khata hefz name FirstLady shabake dorost kar karde\n",
            "dar 49.000000 darsad mavaghe baraye 20 darsad khata hefz name Gentleman shabake dorost kar karde\n"
          ]
        }
      ]
    },
    {
      "cell_type": "code",
      "source": [
        "Lewisky = np.array([letters['L'],letters['e'],letters['w'],letters['i'],letters['s'],letters['k'],letters['y']])\n",
        "SweetGirl = np.array([letters['S'],letters['w'],letters['e'],letters['e'],letters['t'],letters['G'],letters['i'],letters['r'],letters['l']])"
      ],
      "metadata": {
        "id": "i3MZomQk1eqc"
      },
      "execution_count": 114,
      "outputs": []
    },
    {
      "cell_type": "code",
      "source": [
        "S2 = np.hstack((Clinton.reshape(-1,1), Hillary.reshape(-1,1), Kenstar.reshape(-1,1), Lewisky.reshape(-1,1)))\n",
        "T2= np.hstack((President.reshape(-1,1), FirstLady.reshape(-1,1), Gentleman.reshape(-1,1), SweetGirl.reshape(-1,1)))\n",
        "S2,T2"
      ],
      "metadata": {
        "id": "mzd1xjly2G87"
      },
      "execution_count": null,
      "outputs": []
    },
    {
      "cell_type": "code",
      "source": [
        "W2 = np.zeros((S2.shape[0], T2.shape[0]))\n",
        "for i in range(4):\n",
        "    W2 += S2[:, i].reshape(-1, 1) @ T2[:, i].reshape(-1, 1).T\n",
        "W2"
      ],
      "metadata": {
        "colab": {
          "base_uri": "https://localhost:8080/"
        },
        "id": "XHwRN9Q02R49",
        "outputId": "27447eec-a4d3-42a2-cc13-99b6fba988c9"
      },
      "execution_count": 126,
      "outputs": [
        {
          "output_type": "execute_result",
          "data": {
            "text/plain": [
              "array([[ 4., -4.,  0., ...,  2., -2., -2.],\n",
              "       [-4.,  4.,  0., ..., -2.,  2.,  2.],\n",
              "       [-4.,  4.,  0., ..., -2.,  2.,  2.],\n",
              "       ...,\n",
              "       [-2.,  2.,  2., ...,  0.,  0.,  0.],\n",
              "       [ 0.,  0.,  0., ...,  2.,  2., -2.],\n",
              "       [ 0.,  0.,  0., ..., -2., -2.,  2.]])"
            ]
          },
          "metadata": {},
          "execution_count": 126
        }
      ]
    },
    {
      "cell_type": "code",
      "source": [
        "for j in range(4):\n",
        "  name_1 = []\n",
        "  for i in range(9):\n",
        "    Ti = list(T2[:,j].reshape(9,7)[i])\n",
        "\n",
        "    position_2 = list(letters.values()).index(Ti)\n",
        "    name_1 += list(letters.keys())[position_2]\n",
        "  name = []\n",
        "  for i in range(7):\n",
        "    Si = list(YtoX(T2[:,j],W2)[i])\n",
        "    position_1 =  list(letters.values()).index(Si)\n",
        "    name += list(letters.keys())[position_1]\n",
        "  print('the name of'  + ' ' + name_1[0]+name_1[1]+name_1[2]+name_1[3]+name_1[4]+name_1[5]+name_1[6]+name_1[7]+name_1[8] + ' ' + 'is' + ' ' + name[0]+name[1]+name[2]+name[3]+name[4]+name[5]+name[6])"
      ],
      "metadata": {
        "colab": {
          "base_uri": "https://localhost:8080/",
          "height": 330
        },
        "id": "hwvydUt42dU6",
        "outputId": "b3e5a5bd-c7f6-437e-bd31-6391607f5f9d"
      },
      "execution_count": 129,
      "outputs": [
        {
          "output_type": "stream",
          "name": "stdout",
          "text": [
            "the name of President is Clinton\n",
            "the name of FirstLady is Hillary\n",
            "the name of Gentleman is Kenstar\n"
          ]
        },
        {
          "output_type": "error",
          "ename": "ValueError",
          "evalue": "ignored",
          "traceback": [
            "\u001b[0;31m---------------------------------------------------------------------------\u001b[0m",
            "\u001b[0;31mValueError\u001b[0m                                Traceback (most recent call last)",
            "\u001b[0;32m<ipython-input-129-be1c68cc5501>\u001b[0m in \u001b[0;36m<module>\u001b[0;34m()\u001b[0m\n\u001b[1;32m      9\u001b[0m   \u001b[0;32mfor\u001b[0m \u001b[0mi\u001b[0m \u001b[0;32min\u001b[0m \u001b[0mrange\u001b[0m\u001b[0;34m(\u001b[0m\u001b[0;36m7\u001b[0m\u001b[0;34m)\u001b[0m\u001b[0;34m:\u001b[0m\u001b[0;34m\u001b[0m\u001b[0;34m\u001b[0m\u001b[0m\n\u001b[1;32m     10\u001b[0m     \u001b[0mSi\u001b[0m \u001b[0;34m=\u001b[0m \u001b[0mlist\u001b[0m\u001b[0;34m(\u001b[0m\u001b[0mYtoX\u001b[0m\u001b[0;34m(\u001b[0m\u001b[0mT2\u001b[0m\u001b[0;34m[\u001b[0m\u001b[0;34m:\u001b[0m\u001b[0;34m,\u001b[0m\u001b[0mj\u001b[0m\u001b[0;34m]\u001b[0m\u001b[0;34m,\u001b[0m\u001b[0mW2\u001b[0m\u001b[0;34m)\u001b[0m\u001b[0;34m[\u001b[0m\u001b[0mi\u001b[0m\u001b[0;34m]\u001b[0m\u001b[0;34m)\u001b[0m\u001b[0;34m\u001b[0m\u001b[0;34m\u001b[0m\u001b[0m\n\u001b[0;32m---> 11\u001b[0;31m     \u001b[0mposition_1\u001b[0m \u001b[0;34m=\u001b[0m  \u001b[0mlist\u001b[0m\u001b[0;34m(\u001b[0m\u001b[0mletters\u001b[0m\u001b[0;34m.\u001b[0m\u001b[0mvalues\u001b[0m\u001b[0;34m(\u001b[0m\u001b[0;34m)\u001b[0m\u001b[0;34m)\u001b[0m\u001b[0;34m.\u001b[0m\u001b[0mindex\u001b[0m\u001b[0;34m(\u001b[0m\u001b[0mSi\u001b[0m\u001b[0;34m)\u001b[0m\u001b[0;34m\u001b[0m\u001b[0;34m\u001b[0m\u001b[0m\n\u001b[0m\u001b[1;32m     12\u001b[0m     \u001b[0mname\u001b[0m \u001b[0;34m+=\u001b[0m \u001b[0mlist\u001b[0m\u001b[0;34m(\u001b[0m\u001b[0mletters\u001b[0m\u001b[0;34m.\u001b[0m\u001b[0mkeys\u001b[0m\u001b[0;34m(\u001b[0m\u001b[0;34m)\u001b[0m\u001b[0;34m)\u001b[0m\u001b[0;34m[\u001b[0m\u001b[0mposition_1\u001b[0m\u001b[0;34m]\u001b[0m\u001b[0;34m\u001b[0m\u001b[0;34m\u001b[0m\u001b[0m\n\u001b[1;32m     13\u001b[0m   \u001b[0mprint\u001b[0m\u001b[0;34m(\u001b[0m\u001b[0;34m'the name of'\u001b[0m  \u001b[0;34m+\u001b[0m \u001b[0;34m' '\u001b[0m \u001b[0;34m+\u001b[0m \u001b[0mname_1\u001b[0m\u001b[0;34m[\u001b[0m\u001b[0;36m0\u001b[0m\u001b[0;34m]\u001b[0m\u001b[0;34m+\u001b[0m\u001b[0mname_1\u001b[0m\u001b[0;34m[\u001b[0m\u001b[0;36m1\u001b[0m\u001b[0;34m]\u001b[0m\u001b[0;34m+\u001b[0m\u001b[0mname_1\u001b[0m\u001b[0;34m[\u001b[0m\u001b[0;36m2\u001b[0m\u001b[0;34m]\u001b[0m\u001b[0;34m+\u001b[0m\u001b[0mname_1\u001b[0m\u001b[0;34m[\u001b[0m\u001b[0;36m3\u001b[0m\u001b[0;34m]\u001b[0m\u001b[0;34m+\u001b[0m\u001b[0mname_1\u001b[0m\u001b[0;34m[\u001b[0m\u001b[0;36m4\u001b[0m\u001b[0;34m]\u001b[0m\u001b[0;34m+\u001b[0m\u001b[0mname_1\u001b[0m\u001b[0;34m[\u001b[0m\u001b[0;36m5\u001b[0m\u001b[0;34m]\u001b[0m\u001b[0;34m+\u001b[0m\u001b[0mname_1\u001b[0m\u001b[0;34m[\u001b[0m\u001b[0;36m6\u001b[0m\u001b[0;34m]\u001b[0m\u001b[0;34m+\u001b[0m\u001b[0mname_1\u001b[0m\u001b[0;34m[\u001b[0m\u001b[0;36m7\u001b[0m\u001b[0;34m]\u001b[0m\u001b[0;34m+\u001b[0m\u001b[0mname_1\u001b[0m\u001b[0;34m[\u001b[0m\u001b[0;36m8\u001b[0m\u001b[0;34m]\u001b[0m \u001b[0;34m+\u001b[0m \u001b[0;34m' '\u001b[0m \u001b[0;34m+\u001b[0m \u001b[0;34m'is'\u001b[0m \u001b[0;34m+\u001b[0m \u001b[0;34m' '\u001b[0m \u001b[0;34m+\u001b[0m \u001b[0mname\u001b[0m\u001b[0;34m[\u001b[0m\u001b[0;36m0\u001b[0m\u001b[0;34m]\u001b[0m\u001b[0;34m+\u001b[0m\u001b[0mname\u001b[0m\u001b[0;34m[\u001b[0m\u001b[0;36m1\u001b[0m\u001b[0;34m]\u001b[0m\u001b[0;34m+\u001b[0m\u001b[0mname\u001b[0m\u001b[0;34m[\u001b[0m\u001b[0;36m2\u001b[0m\u001b[0;34m]\u001b[0m\u001b[0;34m+\u001b[0m\u001b[0mname\u001b[0m\u001b[0;34m[\u001b[0m\u001b[0;36m3\u001b[0m\u001b[0;34m]\u001b[0m\u001b[0;34m+\u001b[0m\u001b[0mname\u001b[0m\u001b[0;34m[\u001b[0m\u001b[0;36m4\u001b[0m\u001b[0;34m]\u001b[0m\u001b[0;34m+\u001b[0m\u001b[0mname\u001b[0m\u001b[0;34m[\u001b[0m\u001b[0;36m5\u001b[0m\u001b[0;34m]\u001b[0m\u001b[0;34m+\u001b[0m\u001b[0mname\u001b[0m\u001b[0;34m[\u001b[0m\u001b[0;36m6\u001b[0m\u001b[0;34m]\u001b[0m\u001b[0;34m)\u001b[0m\u001b[0;34m\u001b[0m\u001b[0;34m\u001b[0m\u001b[0m\n",
            "\u001b[0;31mValueError\u001b[0m: [1, -1, -1, 1, 0, -1, -1] is not in list"
          ]
        }
      ]
    },
    {
      "cell_type": "code",
      "source": [
        "iteration = 0\n",
        "pl10 = 0\n",
        "ps10 = 0\n",
        "pl20 = 0\n",
        "ps20 = 0\n",
        "while iteration < 100:\n",
        "  noisypl10 = Noise_Net(Lewisky, 10)\n",
        "  noisyps10 = Noise_Net(SweetGirl, 10)\n",
        "  noisypl20 = Noise_Net(Lewisky, 20)\n",
        "  noisyps20 = Noise_Net(SweetGirl, 10)\n",
        "\n",
        "  \n",
        "  predpl10 = XtoY(noisypl10, W2)\n",
        "  predps10 = YtoX(noisyps10, W2)\n",
        "  predpl20 = XtoY(noisypl20, W2)\n",
        "  predps20 = YtoX(noisyps20, W2)\n",
        "\n",
        "  if test_NET(predpl10, SweetGirl) == 1:\n",
        "    pl10 += 1\n",
        "  if test_NET(predps10,  Lewisky) == 1:\n",
        "    ps10 += 1\n",
        "  if test_NET(predpl20, SweetGirl) == 1:\n",
        "    pl20 += 1\n",
        "  if test_NET(predps20,  Lewisky) == 1:\n",
        "    ps20 += 1\n",
        "\n",
        "  iteration += 1\n",
        "print('dar %f darsad mavaghe baraye 10 darsad khata hefz semat Lewisky shabake dorost kar karde'%int(pl10))\n",
        "print('dar %f darsad mavaghe baraye 10 darsad khata hefz name SweetGirl shabake dorost kar karde'%int(ps10))\n",
        "print('dar %f darsad mavaghe baraye 20 darsad khata hefz semat Lewisky shabake dorost kar karde'%int(pl20))\n",
        "print('dar %f darsad mavaghe baraye 20 darsad khata hefz name President shabake dorost kar karde'%int(ps20))\n"
      ],
      "metadata": {
        "colab": {
          "base_uri": "https://localhost:8080/"
        },
        "id": "oTG05oUR4QLr",
        "outputId": "c161c201-727c-4d58-b2b8-d9c83b6269a0"
      },
      "execution_count": 141,
      "outputs": [
        {
          "output_type": "stream",
          "name": "stdout",
          "text": [
            "dar 73.000000 darsad mavaghe baraye 10 darsad khata hefz semat Lewisky shabake dorost kar karde\n",
            "dar 37.000000 darsad mavaghe baraye 10 darsad khata hefz name SweetGirl shabake dorost kar karde\n",
            "dar 57.000000 darsad mavaghe baraye 20 darsad khata hefz semat Lewisky shabake dorost kar karde\n",
            "dar 35.000000 darsad mavaghe baraye 20 darsad khata hefz name President shabake dorost kar karde\n"
          ]
        }
      ]
    }
  ]
}