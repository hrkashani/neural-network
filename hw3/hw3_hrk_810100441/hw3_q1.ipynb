{
  "nbformat": 4,
  "nbformat_minor": 0,
  "metadata": {
    "colab": {
      "name": "hw3_q1.ipynb",
      "provenance": []
    },
    "kernelspec": {
      "name": "python3",
      "display_name": "Python 3"
    },
    "language_info": {
      "name": "python"
    }
  },
  "cells": [
    {
      "cell_type": "code",
      "source": [
        "import numpy as np\n",
        "import matplotlib.pyplot as plt"
      ],
      "metadata": {
        "id": "JeLVGGMaUlKR"
      },
      "execution_count": 1,
      "outputs": []
    },
    {
      "cell_type": "code",
      "execution_count": 2,
      "metadata": {
        "id": "pd1hijQAUIhL"
      },
      "outputs": [],
      "source": [
        "input_1 = np.array([\n",
        "    -1,-1,-1,-1,-1,-1,1,\n",
        "    -1,-1,-1,-1,-1,-1,1,\n",
        "    1,1,1,1,1,1,1,\n",
        "    1,-1,-1,1,-1,-1,-1,\n",
        "    1,-1,-1,1,-1,-1,-1,\n",
        "    -1,-1,-1,1,-1,-1,-1,\n",
        "    -1,-1,-1,1,-1,-1,-1,\n",
        "    -1,-1,-1,1,-1,-1,-1,\n",
        "    -1,-1,-1,1,-1,-1,-1,\n",
        "])\n",
        "\n",
        "input_2 = np.array([\n",
        "    1,-1,-1,-1,-1,-1,1,\n",
        "    1,-1,-1,-1,-1,-1,1,\n",
        "    1,-1,-1,-1,-1,-1,1,\n",
        "    1,-1,-1,-1,-1,-1,1,\n",
        "    1,-1,-1,-1,-1,-1,1,\n",
        "    1,-1,-1,-1,-1,-1,1,\n",
        "    1,1,1,1,1,1,1,\n",
        "    -1,-1,-1,-1,-1,-1,-1,\n",
        "    -1,-1,-1,1,-1,-1,-1,\n",
        "])\n",
        "\n",
        "\n",
        "input_3 = np.array([\n",
        "    1,-1,-1,-1,-1,-1,1,\n",
        "    1,-1,-1,-1,-1,-1,1,\n",
        "    1,-1,-1,-1,-1,-1,1,\n",
        "    1,-1,-1,-1,-1,-1,1,\n",
        "    1,-1,-1,1,-1,-1,1,\n",
        "    1,-1,-1,-1,-1,-1,1,\n",
        "    1,-1,-1,-1,-1,-1,1,\n",
        "    1,-1,-1,-1,-1,-1,1,\n",
        "    1,1,1,1,1,1,1,\n",
        "])\n",
        "\n",
        "\n",
        "output_1 = np.array([\n",
        "    -1,-1,1,\n",
        "    1,1,1,\n",
        "    1,1,-1,\n",
        "    -1,1,-1,\n",
        "    -1,1,-1,\n",
        "])\n",
        "\n",
        "output_2 = np.array([\n",
        "    1,-1,1,\n",
        "    1,-1,1,\n",
        "    1,1,1,\n",
        "    -1,-1,-1,\n",
        "    -1,1,-1\n",
        "])\n",
        "\n",
        "output_3 = np.array([\n",
        "    1,-1,1,\n",
        "    1,-1,1,\n",
        "    1,1,1,\n",
        "    1,-1,1,\n",
        "    1,1,1\n",
        "])\n",
        "\n"
      ]
    },
    {
      "cell_type": "code",
      "source": [
        "A= input_1.reshape(9,7)\n",
        "B= input_2.reshape(9,7)\n",
        "N= input_3.reshape(9,7)\n",
        "a= output_1.reshape(5,3)\n",
        "b = output_2.reshape(5,3)\n",
        "n = output_3.reshape(5,3)"
      ],
      "metadata": {
        "id": "O_TVdiIAV29n"
      },
      "execution_count": 13,
      "outputs": []
    },
    {
      "cell_type": "code",
      "source": [
        "print('Size: ', A.shape)\n",
        "print('Size: ', a.shape)\n",
        "plt.subplot(231)\n",
        "plt.imshow(A, cmap='binary')\n",
        "plt.axis('off')\n",
        "plt.title('A')\n",
        "plt.subplot(232)\n",
        "plt.imshow(B, cmap='binary')\n",
        "plt.axis('off')\n",
        "plt.title('B')\n",
        "plt.subplot(233)\n",
        "plt.imshow(N, cmap='binary')\n",
        "plt.axis('off')\n",
        "plt.title('N')\n",
        "plt.subplot(234)\n",
        "plt.imshow(a, cmap='binary')\n",
        "plt.axis('off')\n",
        "plt.title('A')\n",
        "plt.subplot(235)\n",
        "plt.imshow(b, cmap='binary')\n",
        "plt.axis('off')\n",
        "plt.title('B')\n",
        "plt.subplot(236)\n",
        "plt.imshow(n, cmap='binary')\n",
        "plt.axis('off')\n",
        "plt.title('n')\n",
        "plt.show()"
      ],
      "metadata": {
        "colab": {
          "base_uri": "https://localhost:8080/",
          "height": 299
        },
        "id": "vO9AcXd1U9hI",
        "outputId": "defecb09-a249-4065-cd1f-376cabf5aa2e"
      },
      "execution_count": 19,
      "outputs": [
        {
          "output_type": "stream",
          "name": "stdout",
          "text": [
            "Size:  (9, 7)\n",
            "Size:  (5, 3)\n"
          ]
        },
        {
          "output_type": "display_data",
          "data": {
            "text/plain": [
              "<Figure size 432x288 with 6 Axes>"
            ],
            "image/png": "[encoded data removed]"
          },
          "metadata": {
            "needs_background": "light"
          }
        }
      ]
    },
    {
      "cell_type": "code",
      "source": [
        "S = np.hstack((A.reshape(-1, 1), B.reshape(-1, 1), N.reshape(-1, 1)))\n",
        "T = np.hstack((a.reshape(-1, 1), b.reshape(-1, 1), n.reshape(-1, 1)))"
      ],
      "metadata": {
        "id": "vLi1gPOQXhmM"
      },
      "execution_count": 20,
      "outputs": []
    },
    {
      "cell_type": "code",
      "source": [
        "class PAN:\n",
        "    def __init__(self, S, T):\n",
        "        self.S = S\n",
        "        self.T = T\n",
        "        self.W = np.zeros((S.shape[0], T.shape[0]))\n",
        "\n",
        "    def heb_train(self):\n",
        "        S = self.S\n",
        "        T = self.T\n",
        "        for i in range(T.shape[1]):\n",
        "            s = S[:, i].reshape((S.shape[0], 1))\n",
        "            t = T[:, i].reshape((T.shape[0], 1))\n",
        "            self.W += s @ t.T\n",
        "        return self.W\n",
        "    \n",
        "    def f (self, X):\n",
        "        for i in range(X.shape[0]):\n",
        "            for j in range(X.shape[1]):\n",
        "                X[i][j] = 1 if X[i][j] >= 0 else -1\n",
        "        return X\n",
        "\n",
        "    def out_put(self, sample):\n",
        "        X = sample.reshape(-1, 1)\n",
        "        return self.f(X.T @ self.W)"
      ],
      "metadata": {
        "id": "9bVdfwqNXn1V"
      },
      "execution_count": 33,
      "outputs": []
    },
    {
      "cell_type": "code",
      "source": [
        "model = PAN(S,T)\n",
        "w = model.heb_train()\n",
        "print(w) \n",
        "w.size ,w.shape"
      ],
      "metadata": {
        "colab": {
          "base_uri": "https://localhost:8080/"
        },
        "id": "0ETXQ1S-Yo8g",
        "outputId": "e91f1042-84d7-4485-8619-57b5a69e96bb"
      },
      "execution_count": 35,
      "outputs": [
        {
          "output_type": "stream",
          "name": "stdout",
          "text": [
            "[[ 3. -1.  1.  1. -3.  1.  1.  1.  3.  1. -3.  1.  1.  1.  1.]\n",
            " [-1.  3. -3. -3.  1. -3. -3. -3. -1.  1.  1.  1.  1. -3.  1.]\n",
            " [-1.  3. -3. -3.  1. -3. -3. -3. -1.  1.  1.  1.  1. -3.  1.]\n",
            " [-1.  3. -3. -3.  1. -3. -3. -3. -1.  1.  1.  1.  1. -3.  1.]\n",
            " [-1.  3. -3. -3.  1. -3. -3. -3. -1.  1.  1.  1.  1. -3.  1.]\n",
            " [-1.  3. -3. -3.  1. -3. -3. -3. -1.  1.  1.  1.  1. -3.  1.]\n",
            " [ 1. -3.  3.  3. -1.  3.  3.  3.  1. -1. -1. -1. -1.  3. -1.]\n",
            " [ 3. -1.  1.  1. -3.  1.  1.  1.  3.  1. -3.  1.  1.  1.  1.]\n",
            " [-1.  3. -3. -3.  1. -3. -3. -3. -1.  1.  1.  1.  1. -3.  1.]\n",
            " [-1.  3. -3. -3.  1. -3. -3. -3. -1.  1.  1.  1.  1. -3.  1.]\n",
            " [-1.  3. -3. -3.  1. -3. -3. -3. -1.  1.  1.  1.  1. -3.  1.]\n",
            " [-1.  3. -3. -3.  1. -3. -3. -3. -1.  1.  1.  1.  1. -3.  1.]\n",
            " [-1.  3. -3. -3.  1. -3. -3. -3. -1.  1.  1.  1.  1. -3.  1.]\n",
            " [ 1. -3.  3.  3. -1.  3.  3.  3.  1. -1. -1. -1. -1.  3. -1.]\n",
            " [ 1. -3.  3.  3. -1.  3.  3.  3.  1. -1. -1. -1. -1.  3. -1.]\n",
            " [-3.  1. -1. -1.  3. -1. -1. -1. -3. -1.  3. -1. -1. -1. -1.]\n",
            " [-3.  1. -1. -1.  3. -1. -1. -1. -3. -1.  3. -1. -1. -1. -1.]\n",
            " [-3.  1. -1. -1.  3. -1. -1. -1. -3. -1.  3. -1. -1. -1. -1.]\n",
            " [-3.  1. -1. -1.  3. -1. -1. -1. -3. -1.  3. -1. -1. -1. -1.]\n",
            " [-3.  1. -1. -1.  3. -1. -1. -1. -3. -1.  3. -1. -1. -1. -1.]\n",
            " [ 1. -3.  3.  3. -1.  3.  3.  3.  1. -1. -1. -1. -1.  3. -1.]\n",
            " [ 1. -3.  3.  3. -1.  3.  3.  3.  1. -1. -1. -1. -1.  3. -1.]\n",
            " [-1.  3. -3. -3.  1. -3. -3. -3. -1.  1.  1.  1.  1. -3.  1.]\n",
            " [-1.  3. -3. -3.  1. -3. -3. -3. -1.  1.  1.  1.  1. -3.  1.]\n",
            " [-3.  1. -1. -1.  3. -1. -1. -1. -3. -1.  3. -1. -1. -1. -1.]\n",
            " [-1.  3. -3. -3.  1. -3. -3. -3. -1.  1.  1.  1.  1. -3.  1.]\n",
            " [-1.  3. -3. -3.  1. -3. -3. -3. -1.  1.  1.  1.  1. -3.  1.]\n",
            " [ 3. -1.  1.  1. -3.  1.  1.  1.  3.  1. -3.  1.  1.  1.  1.]\n",
            " [ 1. -3.  3.  3. -1.  3.  3.  3.  1. -1. -1. -1. -1.  3. -1.]\n",
            " [-1.  3. -3. -3.  1. -3. -3. -3. -1.  1.  1.  1.  1. -3.  1.]\n",
            " [-1.  3. -3. -3.  1. -3. -3. -3. -1.  1.  1.  1.  1. -3.  1.]\n",
            " [-1. -1.  1.  1.  1.  1.  1.  1. -1.  1.  1.  1.  1.  1.  1.]\n",
            " [-1.  3. -3. -3.  1. -3. -3. -3. -1.  1.  1.  1.  1. -3.  1.]\n",
            " [-1.  3. -3. -3.  1. -3. -3. -3. -1.  1.  1.  1.  1. -3.  1.]\n",
            " [ 3. -1.  1.  1. -3.  1.  1.  1.  3.  1. -3.  1.  1.  1.  1.]\n",
            " [ 3. -1.  1.  1. -3.  1.  1.  1.  3.  1. -3.  1.  1.  1.  1.]\n",
            " [-1.  3. -3. -3.  1. -3. -3. -3. -1.  1.  1.  1.  1. -3.  1.]\n",
            " [-1.  3. -3. -3.  1. -3. -3. -3. -1.  1.  1.  1.  1. -3.  1.]\n",
            " [-3.  1. -1. -1.  3. -1. -1. -1. -3. -1.  3. -1. -1. -1. -1.]\n",
            " [-1.  3. -3. -3.  1. -3. -3. -3. -1.  1.  1.  1.  1. -3.  1.]\n",
            " [-1.  3. -3. -3.  1. -3. -3. -3. -1.  1.  1.  1.  1. -3.  1.]\n",
            " [ 3. -1.  1.  1. -3.  1.  1.  1.  3.  1. -3.  1.  1.  1.  1.]\n",
            " [ 3. -1.  1.  1. -3.  1.  1.  1.  3.  1. -3.  1.  1.  1.  1.]\n",
            " [ 1.  1. -1. -1. -1. -1. -1. -1.  1. -1. -1. -1. -1. -1. -1.]\n",
            " [ 1.  1. -1. -1. -1. -1. -1. -1.  1. -1. -1. -1. -1. -1. -1.]\n",
            " [-1. -1.  1.  1.  1.  1.  1.  1. -1. -3.  1. -3. -3.  1. -3.]\n",
            " [ 1.  1. -1. -1. -1. -1. -1. -1.  1. -1. -1. -1. -1. -1. -1.]\n",
            " [ 1.  1. -1. -1. -1. -1. -1. -1.  1. -1. -1. -1. -1. -1. -1.]\n",
            " [ 3. -1.  1.  1. -3.  1.  1.  1.  3.  1. -3.  1.  1.  1.  1.]\n",
            " [ 1.  1. -1. -1. -1. -1. -1. -1.  1.  3. -1.  3.  3. -1.  3.]\n",
            " [-1.  3. -3. -3.  1. -3. -3. -3. -1.  1.  1.  1.  1. -3.  1.]\n",
            " [-1.  3. -3. -3.  1. -3. -3. -3. -1.  1.  1.  1.  1. -3.  1.]\n",
            " [-3.  1. -1. -1.  3. -1. -1. -1. -3. -1.  3. -1. -1. -1. -1.]\n",
            " [-1.  3. -3. -3.  1. -3. -3. -3. -1.  1.  1.  1.  1. -3.  1.]\n",
            " [-1.  3. -3. -3.  1. -3. -3. -3. -1.  1.  1.  1.  1. -3.  1.]\n",
            " [ 1.  1. -1. -1. -1. -1. -1. -1.  1.  3. -1.  3.  3. -1.  3.]\n",
            " [ 1.  1. -1. -1. -1. -1. -1. -1.  1.  3. -1.  3.  3. -1.  3.]\n",
            " [ 1.  1. -1. -1. -1. -1. -1. -1.  1.  3. -1.  3.  3. -1.  3.]\n",
            " [ 1.  1. -1. -1. -1. -1. -1. -1.  1.  3. -1.  3.  3. -1.  3.]\n",
            " [ 1. -3.  3.  3. -1.  3.  3.  3.  1. -1. -1. -1. -1.  3. -1.]\n",
            " [ 1.  1. -1. -1. -1. -1. -1. -1.  1.  3. -1.  3.  3. -1.  3.]\n",
            " [ 1.  1. -1. -1. -1. -1. -1. -1.  1.  3. -1.  3.  3. -1.  3.]\n",
            " [ 1.  1. -1. -1. -1. -1. -1. -1.  1.  3. -1.  3.  3. -1.  3.]]\n"
          ]
        },
        {
          "output_type": "execute_result",
          "data": {
            "text/plain": [
              "(945, (63, 15))"
            ]
          },
          "metadata": {},
          "execution_count": 35
        }
      ]
    },
    {
      "cell_type": "code",
      "source": [
        "def test_PAN (predA, A):\n",
        "    return np.sum(predA.reshape(A.shape) == A).astype('int') / 15"
      ],
      "metadata": {
        "id": "LUp6w5rbZRG7"
      },
      "execution_count": 36,
      "outputs": []
    },
    {
      "cell_type": "code",
      "source": [
        "simA = test_PAN(model.out_put(A), a)\n",
        "simB = test_PAN(model.out_put(B), b)\n",
        "simC = test_PAN(model.out_put(N), n)\n",
        "print('similarity precent for letter A: %f'%simA)\n",
        "print('similarity precent for letter B: %f'%simB)\n",
        "print('similarity precent for letter C: %f'%simC)\n",
        "plt.subplot(131)\n",
        "plt.imshow(model.out_put(A).reshape((5, 3)), cmap='binary')\n",
        "plt.axis('off')\n",
        "plt.title('A_predicted')\n",
        "plt.subplot(132)\n",
        "plt.imshow(model.out_put(B).reshape((5, 3)), cmap='binary')\n",
        "plt.axis('off')\n",
        "plt.title('B_predicted')\n",
        "plt.subplot(133)\n",
        "plt.imshow(model.out_put(N).reshape((5, 3)), cmap='binary')\n",
        "plt.axis('off')\n",
        "plt.title('N_predicted')\n",
        "plt.show()"
      ],
      "metadata": {
        "colab": {
          "base_uri": "https://localhost:8080/",
          "height": 263
        },
        "id": "t4EM_voSb5DA",
        "outputId": "a538d7c4-0527-49d6-8379-f858847694a0"
      },
      "execution_count": 39,
      "outputs": [
        {
          "output_type": "stream",
          "name": "stdout",
          "text": [
            "similarity precent for letter A: 1.000000\n",
            "similarity precent for letter B: 1.000000\n",
            "similarity precent for letter C: 1.000000\n"
          ]
        },
        {
          "output_type": "display_data",
          "data": {
            "text/plain": [
              "<Figure size 432x288 with 3 Axes>"
            ],
            "image/png": "[encoded data removed]"
          },
          "metadata": {
            "needs_background": "light"
          }
        }
      ]
    },
    {
      "cell_type": "code",
      "source": [
        "def Noise_Net(input, percent):\n",
        "    noisyOutput = input.copy()\n",
        "    choosenIndices = np.random.choice(noisyOutput.size, int(percent * noisyOutput.size / 100), replace=False)\n",
        "    for index in choosenIndices:\n",
        "        if noisyOutput[index] == 1:\n",
        "            noisyOutput[index] = -1\n",
        "        else:\n",
        "            noisyOutput[index] = 1\n",
        "\n",
        "    return noisyOutput\n",
        "iteration = 0\n",
        "posA20 = 0\n",
        "posB20 = 0\n",
        "posN20 = 0\n",
        "posA60 = 0\n",
        "posB60 = 0\n",
        "posN60 = 0\n",
        "while iteration < 100:\n",
        "    noisyA20 = Noise_Net(S[:, 0], 20)\n",
        "    noisyA60 = Noise_Net(S[:, 0], 60)\n",
        "    noisyB20 = Noise_Net(S[:, 1], 20)\n",
        "    noisyB60 = Noise_Net(S[:, 1], 60)\n",
        "    noisyN20 = Noise_Net(S[:, 2], 20)\n",
        "    noisyN60 = Noise_Net(S[:, 2], 60)\n",
        "\n",
        "    predA20 = model.out_put(noisyA20)\n",
        "    predA60 = model.out_put(noisyA60)\n",
        "    predB20 = model.out_put(noisyB20)\n",
        "    predB60 = model.out_put(noisyB60)\n",
        "    predN20 = model.out_put(noisyN20)\n",
        "    predN60 = model.out_put(noisyN60)\n",
        "\n",
        "    if test_PAN(predA20, a) == 1  : posA20 += 1\n",
        "    if test_PAN(predB20, b) == 1  : posB20 += 1\n",
        "    if test_PAN(predN20, n) == 1  : posN20 += 1\n",
        "    if test_PAN(predA60, a) == 1  : posA60 += 1\n",
        "    if test_PAN(predB60, b) == 1  : posB60 += 1\n",
        "    if test_PAN(predN60, n) == 1  : posN60 += 1    \n",
        "\n",
        "    iteration += 1\n",
        "\n",
        "accA20 = posA20 / 100\n",
        "accB20 = posB20 / 100\n",
        "accN20 = posN20 / 100\n",
        "accA60 = posA60 / 100\n",
        "accB60 = posB60 / 100\n",
        "accN60 = posN60 / 100\n",
        "print('khoroji sahih baray A ba 20 darsad noise %f darsad ast'%accA20)\n",
        "print('khoroji sahih baray B ba 20 darsad noise %f darsad ast'%accB20)\n",
        "print('khoroji sahih baray N ba 20 darsad noise %f darsad ast'%accN20)\n",
        "print('khoroji sahih baray A ba 60 darsad noise %f darsad ast'%accA60)\n",
        "print('khoroji sahih baray B ba 60 darsad noise %f darsad ast'%accB60)\n",
        "print('khoroji sahih baray N ba 60 darsad noise %f darsad ast'%accN60)"
      ],
      "metadata": {
        "colab": {
          "base_uri": "https://localhost:8080/"
        },
        "id": "L1vB3R4IfY3z",
        "outputId": "8db5c6e1-e716-4257-965b-a9a82d4e72c7"
      },
      "execution_count": 48,
      "outputs": [
        {
          "output_type": "stream",
          "name": "stdout",
          "text": [
            "khoroji sahih baray A ba 20 darsad noise 0.960000 darsad ast\n",
            "khoroji sahih baray B ba 20 darsad noise 1.000000 darsad ast\n",
            "khoroji sahih baray N ba 20 darsad noise 0.830000 darsad ast\n",
            "khoroji sahih baray A ba 60 darsad noise 0.000000 darsad ast\n",
            "khoroji sahih baray B ba 60 darsad noise 0.000000 darsad ast\n",
            "khoroji sahih baray N ba 60 darsad noise 0.000000 darsad ast\n"
          ]
        }
      ]
    },
    {
      "cell_type": "code",
      "source": [
        "def loss_Net(input, percent):\n",
        "    lossyOutput = input.copy()\n",
        "    choosenIndices = np.random.choice(lossyOutput.size, int(percent * lossyOutput.size / 100), replace=False)\n",
        "    for index in choosenIndices:\n",
        "        lossyOutput[index] = 0\n",
        "    return lossyOutput\n",
        "\n",
        "iteration = 0\n",
        "posA20 = 0\n",
        "posB20 = 0\n",
        "posN20 = 0\n",
        "posA60 = 0\n",
        "posB60 = 0\n",
        "posN60 = 0\n",
        "while iteration < 100:\n",
        "    lossyA20 = loss_Net(S[:, 0], 20)\n",
        "    lossyA60 = loss_Net(S[:, 0], 60)\n",
        "    lossyB20 = loss_Net(S[:, 1], 20)\n",
        "    lossyB60 = loss_Net(S[:, 1], 60)\n",
        "    lossyN20 = loss_Net(S[:, 2], 20)\n",
        "    lossyN60 = loss_Net(S[:, 2], 60)\n",
        "\n",
        "    predA20 = model.out_put(lossyA20)\n",
        "    predA60 = model.out_put(lossyA60)\n",
        "    predB20 = model.out_put(lossyB20)\n",
        "    predB60 = model.out_put(lossyB60)\n",
        "    predN20 = model.out_put(lossyN20)\n",
        "    predN60 = model.out_put(lossyN60)\n",
        "\n",
        "    if test_PAN(predA20, a) == 1  : posA20 += 1\n",
        "    if test_PAN(predB20, b) == 1  : posB20 += 1\n",
        "    if test_PAN(predN20, n) == 1  : posN20 += 1\n",
        "    if test_PAN(predA60, a) == 1  : posA60 += 1\n",
        "    if test_PAN(predB60, b) == 1  : posB60 += 1\n",
        "    if test_PAN(predN60, n) == 1  : posN60 += 1    \n",
        "\n",
        "    iteration += 1\n",
        "\n",
        "accA20 = posA20 / 100\n",
        "accB20 = posB20 / 100\n",
        "accN20 = posN20 / 100\n",
        "accA60 = posA60 / 100\n",
        "accB60 = posB60 / 100\n",
        "accN60 = posN60 / 100\n",
        "print('khoroji sahih baray A ba 20 darsad noise %f darsad ast'%accA20)\n",
        "print('khoroji sahih baray B ba 20 darsad noise %f darsad ast'%accB20)\n",
        "print('khoroji sahih baray N ba 20 darsad noise %f darsad ast'%accN20)\n",
        "print('khoroji sahih baray A ba 60 darsad noise %f darsad ast'%accA60)\n",
        "print('khoroji sahih baray B ba 60 darsad noise %f darsad ast'%accB60)\n",
        "print('khoroji sahih baray N ba 60 darsad noise %f darsad ast'%accN60)"
      ],
      "metadata": {
        "colab": {
          "base_uri": "https://localhost:8080/"
        },
        "id": "3cR9zUhPmA2n",
        "outputId": "c53697e2-0b9e-4289-8825-89bb06f767b7"
      },
      "execution_count": 49,
      "outputs": [
        {
          "output_type": "stream",
          "name": "stdout",
          "text": [
            "khoroji sahih baray A ba 20 darsad noise 1.000000 darsad ast\n",
            "khoroji sahih baray B ba 20 darsad noise 1.000000 darsad ast\n",
            "khoroji sahih baray N ba 20 darsad noise 0.980000 darsad ast\n",
            "khoroji sahih baray A ba 60 darsad noise 0.980000 darsad ast\n",
            "khoroji sahih baray B ba 60 darsad noise 1.000000 darsad ast\n",
            "khoroji sahih baray N ba 60 darsad noise 0.880000 darsad ast\n"
          ]
        }
      ]
    }
  ]
}