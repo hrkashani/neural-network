{
  "nbformat": 4,
  "nbformat_minor": 0,
  "metadata": {
    "colab": {
      "name": "hw3_q2.ipynb",
      "provenance": [],
      "collapsed_sections": []
    },
    "kernelspec": {
      "name": "python3",
      "display_name": "Python 3"
    },
    "language_info": {
      "name": "python"
    }
  },
  "cells": [
    {
      "cell_type": "code",
      "execution_count": 5,
      "metadata": {
        "id": "0D6LWoXeNpDm"
      },
      "outputs": [],
      "source": [
        "from PIL import Image\n",
        "import numpy as np\n",
        "import matplotlib.pyplot as plt"
      ]
    },
    {
      "cell_type": "code",
      "source": [
        "np_img=[]\n",
        "for i in range(3):\n",
        "  img = Image.open('/content/photo/Image_%i.png'%(i+1)).convert('L')\n",
        "\n",
        "  np_img += [np.array(img)]\n",
        "  np_img[i]= ~np_img[i]  # invert B&W\n",
        "  np_img[i][np_img[i] > 0] = 1\n",
        "\n"
      ],
      "metadata": {
        "id": "IGychKiJe9Qt"
      },
      "execution_count": 7,
      "outputs": []
    },
    {
      "cell_type": "code",
      "source": [
        "img1=np_img[0]\n",
        "img2=np_img[1]\n",
        "img3=np_img[2]\n",
        "img1 = img1.astype('int32')\n",
        "img2 = img2.astype('int32')\n",
        "img3 = img3.astype('int32')"
      ],
      "metadata": {
        "id": "9cVZCr2zfoxM"
      },
      "execution_count": 8,
      "outputs": []
    },
    {
      "cell_type": "code",
      "source": [
        "img1[img1==0] = -1\n",
        "img2[img2==0] = -1\n",
        "img3[img3==0] = -1\n",
        "\n"
      ],
      "metadata": {
        "id": "x6oWaKfbom16"
      },
      "execution_count": 9,
      "outputs": []
    },
    {
      "cell_type": "code",
      "source": [
        "class auto_associative_net:\n",
        "    def __init__(self, S):\n",
        "        self.S = S\n",
        "        self.W = np.zeros((S.shape[0], S.shape[0]))\n",
        "\n",
        "    def heb_train(self):\n",
        "        S = self.S\n",
        "        for i in range(S.shape[1]):\n",
        "            s = S[:, i].reshape((S.shape[0], 1))\n",
        "            self.W += s @ s.T\n",
        "        return self.W\n",
        "    def heb_train_modified(self):\n",
        "        S = self.S\n",
        "        for i in range(S.shape[1]):\n",
        "            s = S[:, i].reshape((S.shape[0], 1))\n",
        "            self.W += s @ s.T - np.eye(S.shape[0])\n",
        "        return self.W\n",
        "    \n",
        "    def f (self, X):\n",
        "        for i in range(X.shape[0]):\n",
        "            for j in range(X.shape[1]):\n",
        "                X[i][j] = 1 if X[i][j] >= 0 else -1\n",
        "        return X\n",
        "\n",
        "    def out_put(self, sample):\n",
        "        X = sample.reshape(-1, 1)\n",
        "        return self.f(X.T @ self.W)"
      ],
      "metadata": {
        "id": "Z79FVzBfzYDx"
      },
      "execution_count": 10,
      "outputs": []
    },
    {
      "cell_type": "code",
      "source": [
        "S = np.hstack((img1.reshape(-1, 1), img2.reshape(-1, 1), img3.reshape(-1, 1)))\n",
        "S"
      ],
      "metadata": {
        "colab": {
          "base_uri": "https://localhost:8080/"
        },
        "id": "KKFdq6eR1I35",
        "outputId": "5d310a14-3f99-45e3-958f-4ed867b638f9"
      },
      "execution_count": 11,
      "outputs": [
        {
          "output_type": "execute_result",
          "data": {
            "text/plain": [
              "array([[-1, -1, -1],\n",
              "       [ 1, -1,  1],\n",
              "       [ 1,  1,  1],\n",
              "       [ 1, -1,  1],\n",
              "       [-1, -1, -1],\n",
              "       [ 1, -1,  1],\n",
              "       [-1,  1, -1],\n",
              "       [-1,  1, -1],\n",
              "       [-1, -1, -1],\n",
              "       [ 1, -1,  1],\n",
              "       [ 1, -1, -1],\n",
              "       [-1, -1, -1],\n",
              "       [-1,  1, -1],\n",
              "       [-1, -1, -1],\n",
              "       [ 1, -1,  1],\n",
              "       [ 1, -1, -1],\n",
              "       [-1, -1,  1],\n",
              "       [-1,  1,  1],\n",
              "       [-1, -1,  1],\n",
              "       [ 1, -1, -1],\n",
              "       [ 1, -1,  1],\n",
              "       [-1, -1, -1],\n",
              "       [-1,  1, -1],\n",
              "       [-1, -1, -1],\n",
              "       [ 1, -1, -1],\n",
              "       [ 1, -1,  1],\n",
              "       [-1, -1, -1],\n",
              "       [-1,  1, -1],\n",
              "       [-1, -1, -1],\n",
              "       [ 1, -1, -1],\n",
              "       [-1, -1,  1],\n",
              "       [ 1,  1,  1],\n",
              "       [ 1,  1,  1],\n",
              "       [ 1,  1,  1],\n",
              "       [-1, -1,  1]], dtype=int32)"
            ]
          },
          "metadata": {},
          "execution_count": 11
        }
      ]
    },
    {
      "cell_type": "code",
      "source": [
        "model = auto_associative_net(S)\n",
        "print(model.heb_train())\n",
        "model1 = auto_associative_net(S)\n",
        "print(model1.heb_train_modified())\n"
      ],
      "metadata": {
        "colab": {
          "base_uri": "https://localhost:8080/"
        },
        "id": "c9YBF6-j1aUr",
        "outputId": "7e882705-3563-42dd-9a6a-e4b13545a027"
      },
      "execution_count": 12,
      "outputs": [
        {
          "output_type": "stream",
          "name": "stdout",
          "text": [
            "[[ 3. -1. -3. ... -3. -3.  1.]\n",
            " [-1.  3.  1. ...  1.  1.  1.]\n",
            " [-3.  1.  3. ...  3.  3. -1.]\n",
            " ...\n",
            " [-3.  1.  3. ...  3.  3. -1.]\n",
            " [-3.  1.  3. ...  3.  3. -1.]\n",
            " [ 1.  1. -1. ... -1. -1.  3.]]\n",
            "[[ 0. -1. -3. ... -3. -3.  1.]\n",
            " [-1.  0.  1. ...  1.  1.  1.]\n",
            " [-3.  1.  0. ...  3.  3. -1.]\n",
            " ...\n",
            " [-3.  1.  3. ...  0.  3. -1.]\n",
            " [-3.  1.  3. ...  3.  0. -1.]\n",
            " [ 1.  1. -1. ... -1. -1.  0.]]\n"
          ]
        }
      ]
    },
    {
      "cell_type": "code",
      "source": [
        "\n",
        "def test_NET (predA, A):\n",
        "    return np.sum(predA.reshape(A.shape) == A).astype('int') / (A.size)"
      ],
      "metadata": {
        "id": "tKoK3_diK1hJ"
      },
      "execution_count": 13,
      "outputs": []
    },
    {
      "cell_type": "code",
      "source": [
        "simA = test_NET(model1.out_put(img1), img1)\n",
        "simB = test_NET(model1.out_put(img2), img2)\n",
        "simC = test_NET(model1.out_put(img3), img3)\n",
        "print('similarity precent for letter A: %f'%simA)\n",
        "print('similarity precent for letter B: %f'%simB)\n",
        "print('similarity precent for letter C: %f'%simC)\n",
        "plt.subplot(131)\n",
        "plt.imshow(model.out_put(img1).reshape(img1.shape), cmap='binary')\n",
        "plt.axis('off')\n",
        "plt.title('0_predicted')\n",
        "plt.subplot(132)\n",
        "plt.imshow(model.out_put(img2).reshape(img2.shape), cmap='binary')\n",
        "plt.axis('off')\n",
        "plt.title('1_predicted')\n",
        "plt.subplot(133)\n",
        "plt.imshow(model.out_put(img3).reshape(img3.shape), cmap='binary')\n",
        "plt.axis('off')\n",
        "plt.title('2_predicted')\n",
        "plt.show()"
      ],
      "metadata": {
        "colab": {
          "base_uri": "https://localhost:8080/",
          "height": 237
        },
        "id": "CaUb0SI-GpZu",
        "outputId": "c0aadc41-4d59-45ce-d352-a44e00c7f46c"
      },
      "execution_count": 14,
      "outputs": [
        {
          "output_type": "stream",
          "name": "stdout",
          "text": [
            "similarity precent for letter A: 1.000000\n",
            "similarity precent for letter B: 1.000000\n",
            "similarity precent for letter C: 1.000000\n"
          ]
        },
        {
          "output_type": "display_data",
          "data": {
            "text/plain": [
              "<Figure size 432x288 with 3 Axes>"
            ],
            "image/png": "[encoded data removed]"
          },
          "metadata": {
            "needs_background": "light"
          }
        }
      ]
    },
    {
      "cell_type": "code",
      "source": [
        "simA = test_NET(model.out_put(img1), img1)\n",
        "simB = test_NET(model.out_put(img2), img2)\n",
        "simC = test_NET(model.out_put(img3), img3)\n",
        "print('similarity precent for letter A: %f'%simA)\n",
        "print('similarity precent for letter B: %f'%simB)\n",
        "print('similarity precent for letter C: %f'%simC)\n",
        "plt.subplot(131)\n",
        "plt.imshow(model.out_put(img1).reshape(img1.shape), cmap='binary')\n",
        "plt.axis('off')\n",
        "plt.title('0_predicted')\n",
        "plt.subplot(132)\n",
        "plt.imshow(model.out_put(img2).reshape(img2.shape), cmap='binary')\n",
        "plt.axis('off')\n",
        "plt.title('1_predicted')\n",
        "plt.subplot(133)\n",
        "plt.imshow(model.out_put(img3).reshape(img3.shape), cmap='binary')\n",
        "plt.axis('off')\n",
        "plt.title('2_predicted')\n",
        "plt.show()"
      ],
      "metadata": {
        "colab": {
          "base_uri": "https://localhost:8080/",
          "height": 237
        },
        "id": "aw_3pcDLIIeN",
        "outputId": "c1eb75cc-1420-430a-c271-6ecee49a4858"
      },
      "execution_count": 15,
      "outputs": [
        {
          "output_type": "stream",
          "name": "stdout",
          "text": [
            "similarity precent for letter A: 1.000000\n",
            "similarity precent for letter B: 1.000000\n",
            "similarity precent for letter C: 1.000000\n"
          ]
        },
        {
          "output_type": "display_data",
          "data": {
            "text/plain": [
              "<Figure size 432x288 with 3 Axes>"
            ],
            "image/png": "[encoded data removed]"
          },
          "metadata": {
            "needs_background": "light"
          }
        }
      ]
    },
    {
      "cell_type": "code",
      "source": [
        "def Noise_Net(input, percent):\n",
        "    noisyOutput = input.copy()\n",
        "    choosenIndices = np.random.choice(noisyOutput.size, int(percent * noisyOutput.size / 100), replace=False)\n",
        "    for index in choosenIndices:\n",
        "        if noisyOutput[index] == 1:\n",
        "            noisyOutput[index] = -1\n",
        "        else:\n",
        "            noisyOutput[index] = 1\n",
        "\n",
        "    return noisyOutput"
      ],
      "metadata": {
        "id": "1MMSWDYbLWYs"
      },
      "execution_count": 16,
      "outputs": []
    },
    {
      "cell_type": "code",
      "source": [
        "iteration = 0\n",
        "pos1_20 = 0\n",
        "pos2_20 = 0\n",
        "pos3_20 = 0\n",
        "pos1_80 = 0\n",
        "pos2_80 = 0\n",
        "pos3_80 = 0\n",
        "while iteration < 100:\n",
        "    noisy1_20 = Noise_Net(S[:, 0], 20)\n",
        "    noisy1_80 = Noise_Net(S[:, 0], 80)\n",
        "    noisy2_20 = Noise_Net(S[:, 1], 20)\n",
        "    noisy2_80 = Noise_Net(S[:, 1], 80)\n",
        "    noisy3_20 = Noise_Net(S[:, 2], 20)\n",
        "    noisy3_80 = Noise_Net(S[:, 2], 80)\n",
        "\n",
        "    pred1_20 = model.out_put(noisy1_20)\n",
        "    pred1_80 = model.out_put(noisy1_80)\n",
        "    pred2_20 = model.out_put(noisy2_20)\n",
        "    pred2_80 = model.out_put(noisy2_80)\n",
        "    pred3_20 = model.out_put(noisy3_20)\n",
        "    pred3_80 = model.out_put(noisy3_80)\n",
        "\n",
        "    if test_NET(pred1_20, img1) == 1  : pos1_20 += 1\n",
        "    if test_NET(pred2_20, img2) == 1  : pos2_20 += 1\n",
        "    if test_NET(pred3_20, img3) == 1  : pos3_20 += 1\n",
        "    if test_NET(pred1_80, img1) == 1  : pos1_80 += 1\n",
        "    if test_NET(pred2_80, img2) == 1  : pos2_80 += 1\n",
        "    if test_NET(pred3_80, img3) == 1  : pos3_80 += 1    \n",
        "\n",
        "    iteration += 1\n",
        "\n",
        "acc1_20 = pos1_20 / 100\n",
        "acc2_20 = pos2_20 / 100\n",
        "acc3_20 = pos3_20 / 100\n",
        "acc1_80 = pos1_80 / 100\n",
        "acc2_80 = pos2_80 / 100\n",
        "acc3_80 = pos3_80 / 100\n",
        "print('khoroji sahih baray 0 ba 20 darsad noise %f darsad ast'%acc1_20)\n",
        "print('khoroji sahih baray 1 ba 20 darsad noise %f darsad ast'%acc2_20)\n",
        "print('khoroji sahih baray 2 ba 20 darsad noise %f darsad ast'%acc3_20)\n",
        "print('khoroji sahih baray 0 ba 60 darsad noise %f darsad ast'%acc1_80)\n",
        "print('khoroji sahih baray 1 ba 60 darsad noise %f darsad ast'%acc2_80)\n",
        "print('khoroji sahih baray 2 ba 60 darsad noise %f darsad ast'%acc3_80)"
      ],
      "metadata": {
        "colab": {
          "base_uri": "https://localhost:8080/"
        },
        "id": "WvlXPjOi8a1Z",
        "outputId": "c30167d7-38dc-437c-f2af-8eed2ea10db2"
      },
      "execution_count": 43,
      "outputs": [
        {
          "output_type": "stream",
          "name": "stdout",
          "text": [
            "khoroji sahih baray 0 ba 20 darsad noise 0.940000 darsad ast\n",
            "khoroji sahih baray 1 ba 20 darsad noise 1.000000 darsad ast\n",
            "khoroji sahih baray 2 ba 20 darsad noise 0.920000 darsad ast\n",
            "khoroji sahih baray 0 ba 60 darsad noise 0.000000 darsad ast\n",
            "khoroji sahih baray 1 ba 60 darsad noise 0.000000 darsad ast\n",
            "khoroji sahih baray 2 ba 60 darsad noise 0.000000 darsad ast\n"
          ]
        }
      ]
    },
    {
      "cell_type": "code",
      "source": [
        "iteration = 0\n",
        "pos1_20 = 0\n",
        "pos2_20 = 0\n",
        "pos3_20 = 0\n",
        "pos1_80 = 0\n",
        "pos2_80 = 0\n",
        "pos3_80 = 0\n",
        "while iteration < 100:\n",
        "    noisy1_20 = Noise_Net(S[:, 0], 20)\n",
        "    noisy1_80 = Noise_Net(S[:, 0], 80)\n",
        "    noisy2_20 = Noise_Net(S[:, 1], 20)\n",
        "    noisy2_80 = Noise_Net(S[:, 1], 80)\n",
        "    noisy3_20 = Noise_Net(S[:, 2], 20)\n",
        "    noisy3_80 = Noise_Net(S[:, 2], 80)\n",
        "\n",
        "    pred1_20 = model1.out_put(noisy1_20)\n",
        "    pred1_80 = model1.out_put(noisy1_80)\n",
        "    pred2_20 = model1.out_put(noisy2_20)\n",
        "    pred2_80 = model1.out_put(noisy2_80)\n",
        "    pred3_20 = model1.out_put(noisy3_20)\n",
        "    pred3_80 = model1.out_put(noisy3_80)\n",
        "\n",
        "    if test_NET(pred1_20, img1) == 1  : pos1_20 += 1\n",
        "    if test_NET(pred2_20, img2) == 1  : pos2_20 += 1\n",
        "    if test_NET(pred3_20, img3) == 1  : pos3_20 += 1\n",
        "    if test_NET(pred1_80, img1) == 1  : pos1_80 += 1\n",
        "    if test_NET(pred2_80, img2) == 1  : pos2_80 += 1\n",
        "    if test_NET(pred3_80, img3) == 1  : pos3_80 += 1    \n",
        "\n",
        "    iteration += 1\n",
        "\n",
        "acc1_20 = pos1_20 / 100\n",
        "acc2_20 = pos2_20 / 100\n",
        "acc3_20 = pos3_20 / 100\n",
        "acc1_80 = pos1_80 / 100\n",
        "acc2_80 = pos2_80 / 100\n",
        "acc3_80 = pos3_80 / 100\n",
        "print('khoroji sahih baray 0 ba 20 darsad noise %f darsad ast'%acc1_20)\n",
        "print('khoroji sahih baray 1 ba 20 darsad noise %f darsad ast'%acc2_20)\n",
        "print('khoroji sahih baray 2 ba 20 darsad noise %f darsad ast'%acc3_20)\n",
        "print('khoroji sahih baray 0 ba 60 darsad noise %f darsad ast'%acc1_80)\n",
        "print('khoroji sahih baray 1 ba 60 darsad noise %f darsad ast'%acc2_80)\n",
        "print('khoroji sahih baray 2 ba 60 darsad noise %f darsad ast'%acc3_80)"
      ],
      "metadata": {
        "colab": {
          "base_uri": "https://localhost:8080/"
        },
        "id": "fSLFN4YW-sM8",
        "outputId": "066c9271-8d0f-4823-f94d-eae0c20f99fc"
      },
      "execution_count": 44,
      "outputs": [
        {
          "output_type": "stream",
          "name": "stdout",
          "text": [
            "khoroji sahih baray 0 ba 20 darsad noise 0.840000 darsad ast\n",
            "khoroji sahih baray 1 ba 20 darsad noise 0.960000 darsad ast\n",
            "khoroji sahih baray 2 ba 20 darsad noise 0.910000 darsad ast\n",
            "khoroji sahih baray 0 ba 60 darsad noise 0.000000 darsad ast\n",
            "khoroji sahih baray 1 ba 60 darsad noise 0.000000 darsad ast\n",
            "khoroji sahih baray 2 ba 60 darsad noise 0.000000 darsad ast\n"
          ]
        }
      ]
    },
    {
      "cell_type": "code",
      "source": [
        "def loss_Net(input, percent):\n",
        "    lossyOutput = input.copy()\n",
        "    choosenIndices = np.random.choice(lossyOutput.size, int(percent * lossyOutput.size / 100), replace=False)\n",
        "    for index in choosenIndices:\n",
        "        lossyOutput[index] = 0\n",
        "    return lossyOutput"
      ],
      "metadata": {
        "id": "hN-p9XtwFpGb"
      },
      "execution_count": 46,
      "outputs": []
    },
    {
      "cell_type": "code",
      "source": [
        "iteration = 0\n",
        "pos1_20 = 0\n",
        "pos2_20 = 0\n",
        "pos3_20 = 0\n",
        "pos1_80 = 0\n",
        "pos2_80 = 0\n",
        "pos3_80 = 0\n",
        "while iteration < 100:\n",
        "    noisy1_20 = loss_Net(S[:, 0], 20)\n",
        "    noisy1_80 = loss_Net(S[:, 0], 80)\n",
        "    noisy2_20 = loss_Net(S[:, 1], 20)\n",
        "    noisy2_80 = loss_Net(S[:, 1], 80)\n",
        "    noisy3_20 = loss_Net(S[:, 2], 20)\n",
        "    noisy3_80 = loss_Net(S[:, 2], 80)\n",
        "\n",
        "    pred1_20 = model1.out_put(noisy1_20)\n",
        "    pred1_80 = model1.out_put(noisy1_80)\n",
        "    pred2_20 = model1.out_put(noisy2_20)\n",
        "    pred2_80 = model1.out_put(noisy2_80)\n",
        "    pred3_20 = model1.out_put(noisy3_20)\n",
        "    pred3_80 = model1.out_put(noisy3_80)\n",
        "\n",
        "    if test_NET(pred1_20, img1) == 1  : pos1_20 += 1\n",
        "    if test_NET(pred2_20, img2) == 1  : pos2_20 += 1\n",
        "    if test_NET(pred3_20, img3) == 1  : pos3_20 += 1\n",
        "    if test_NET(pred1_80, img1) == 1  : pos1_80 += 1\n",
        "    if test_NET(pred2_80, img2) == 1  : pos2_80 += 1\n",
        "    if test_NET(pred3_80, img3) == 1  : pos3_80 += 1    \n",
        "\n",
        "    iteration += 1\n",
        "\n",
        "acc1_20 = pos1_20 / 100\n",
        "acc2_20 = pos2_20 / 100\n",
        "acc3_20 = pos3_20 / 100\n",
        "acc1_80 = pos1_80 / 100\n",
        "acc2_80 = pos2_80 / 100\n",
        "acc3_80 = pos3_80 / 100\n",
        "print('khoroji sahih baray 0 ba 20 darsad loss %f darsad ast'%acc1_20)\n",
        "print('khoroji sahih baray 1 ba 20 darsad loss %f darsad ast'%acc2_20)\n",
        "print('khoroji sahih baray 2 ba 20 darsad loss %f darsad ast'%acc3_20)\n",
        "print('khoroji sahih baray 0 ba 60 darsad loss %f darsad ast'%acc1_80)\n",
        "print('khoroji sahih baray 1 ba 60 darsad loss %f darsad ast'%acc2_80)\n",
        "print('khoroji sahih baray 2 ba 60 darsad loss %f darsad ast'%acc3_80)"
      ],
      "metadata": {
        "colab": {
          "base_uri": "https://localhost:8080/"
        },
        "id": "5_IMYJDaFxmh",
        "outputId": "88e4fe7f-7c52-4d0c-a162-d34c531bb5df"
      },
      "execution_count": 47,
      "outputs": [
        {
          "output_type": "stream",
          "name": "stdout",
          "text": [
            "khoroji sahih baray 0 ba 20 darsad loss 1.000000 darsad ast\n",
            "khoroji sahih baray 1 ba 20 darsad loss 1.000000 darsad ast\n",
            "khoroji sahih baray 2 ba 20 darsad loss 1.000000 darsad ast\n",
            "khoroji sahih baray 0 ba 60 darsad loss 0.470000 darsad ast\n",
            "khoroji sahih baray 1 ba 60 darsad loss 0.540000 darsad ast\n",
            "khoroji sahih baray 2 ba 60 darsad loss 0.490000 darsad ast\n"
          ]
        }
      ]
    },
    {
      "cell_type": "code",
      "source": [
        "iteration = 0\n",
        "pos1_20 = 0\n",
        "pos2_20 = 0\n",
        "pos3_20 = 0\n",
        "pos1_80 = 0\n",
        "pos2_80 = 0\n",
        "pos3_80 = 0\n",
        "while iteration < 100:\n",
        "    noisy1_20 = loss_Net(S[:, 0], 20)\n",
        "    noisy1_80 = loss_Net(S[:, 0], 80)\n",
        "    noisy2_20 = loss_Net(S[:, 1], 20)\n",
        "    noisy2_80 = loss_Net(S[:, 1], 80)\n",
        "    noisy3_20 = loss_Net(S[:, 2], 20)\n",
        "    noisy3_80 = loss_Net(S[:, 2], 80)\n",
        "\n",
        "    pred1_20 = model.out_put(noisy1_20)\n",
        "    pred1_80 = model.out_put(noisy1_80)\n",
        "    pred2_20 = model.out_put(noisy2_20)\n",
        "    pred2_80 = model.out_put(noisy2_80)\n",
        "    pred3_20 = model.out_put(noisy3_20)\n",
        "    pred3_80 = model.out_put(noisy3_80)\n",
        "\n",
        "    if test_NET(pred1_20, img1) == 1  : pos1_20 += 1\n",
        "    if test_NET(pred2_20, img2) == 1  : pos2_20 += 1\n",
        "    if test_NET(pred3_20, img3) == 1  : pos3_20 += 1\n",
        "    if test_NET(pred1_80, img1) == 1  : pos1_80 += 1\n",
        "    if test_NET(pred2_80, img2) == 1  : pos2_80 += 1\n",
        "    if test_NET(pred3_80, img3) == 1  : pos3_80 += 1    \n",
        "\n",
        "    iteration += 1\n",
        "\n",
        "acc1_20 = pos1_20 / 100\n",
        "acc2_20 = pos2_20 / 100\n",
        "acc3_20 = pos3_20 / 100\n",
        "acc1_80 = pos1_80 / 100\n",
        "acc2_80 = pos2_80 / 100\n",
        "acc3_80 = pos3_80 / 100\n",
        "print('khoroji sahih baray 0 ba 20 darsad loss %f darsad ast'%acc1_20)\n",
        "print('khoroji sahih baray 1 ba 20 darsad loss %f darsad ast'%acc2_20)\n",
        "print('khoroji sahih baray 2 ba 20 darsad loss %f darsad ast'%acc3_20)\n",
        "print('khoroji sahih baray 0 ba 60 darsad loss %f darsad ast'%acc1_80)\n",
        "print('khoroji sahih baray 1 ba 60 darsad loss %f darsad ast'%acc2_80)\n",
        "print('khoroji sahih baray 2 ba 60 darsad loss %f darsad ast'%acc3_80)"
      ],
      "metadata": {
        "colab": {
          "base_uri": "https://localhost:8080/"
        },
        "id": "-UTKuMFkGMpF",
        "outputId": "3fdd64a0-3932-42c4-b013-08bb6288c272"
      },
      "execution_count": 48,
      "outputs": [
        {
          "output_type": "stream",
          "name": "stdout",
          "text": [
            "khoroji sahih baray 0 ba 20 darsad loss 1.000000 darsad ast\n",
            "khoroji sahih baray 1 ba 20 darsad loss 1.000000 darsad ast\n",
            "khoroji sahih baray 2 ba 20 darsad loss 1.000000 darsad ast\n",
            "khoroji sahih baray 0 ba 60 darsad loss 0.810000 darsad ast\n",
            "khoroji sahih baray 1 ba 60 darsad loss 0.950000 darsad ast\n",
            "khoroji sahih baray 2 ba 60 darsad loss 0.760000 darsad ast\n"
          ]
        }
      ]
    }
  ]
}