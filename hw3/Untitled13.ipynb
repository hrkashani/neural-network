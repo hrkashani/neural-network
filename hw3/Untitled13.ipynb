{
  "nbformat": 4,
  "nbformat_minor": 0,
  "metadata": {
    "colab": {
      "name": "Untitled13.ipynb",
      "provenance": [],
      "collapsed_sections": []
    },
    "kernelspec": {
      "name": "python3",
      "display_name": "Python 3"
    },
    "language_info": {
      "name": "python"
    },
    "accelerator": "GPU"
  },
  "cells": [
    {
      "cell_type": "code",
      "execution_count": 1,
      "metadata": {
        "id": "1Sh0uEm-M98F"
      },
      "outputs": [],
      "source": [
        "import numpy as np\n",
        "import matplotlib.pyplot as plt\n",
        "from scipy.spatial import distance"
      ]
    },
    {
      "cell_type": "code",
      "source": [
        "letters = {'C':[1,0,0,0,0,1,1], 'l': [1,1,0,1,1,0,0], 'i':[1,1,0,1,0,0,1], 'n':[1,1,0,1,1,1,0], 't':[1,1,1,0,1,0,0], 'o':[1,1,0,1,1,1,1], 'H':[1,0,0,1,0,0,0], 'a':[1,1,0,0,0,0,1], 'r':[1,1,1,0,0,1,0], 'y':[1,1,1,1,0,0,1], 'K':[1,0,0,1,0,1,1], 'e':[1,1,0,0,1,0,1], 's':[1,1,1,0,0,1,1], 'P':[1,0,1,0,0,0,0], 'd':[1,1,0,0,1,0,0], 'F':[1,0,0,0,1,1,0], 'L':[1,0,0,1,1,0,0], 'G':[1,0,0,0,1,1,1], 'm':[1,1,0,1,1,0,1], 'w':[1,1,1,0,1,1,1], 'k':[1,1,0,1,0,1,1], 'S':[1,0,1,0,0,1,1]}"
      ],
      "metadata": {
        "id": "KXRcvXuLblVu"
      },
      "execution_count": 56,
      "outputs": []
    },
    {
      "cell_type": "markdown",
      "source": [
        ""
      ],
      "metadata": {
        "id": "KDx2I2r0gakg"
      }
    },
    {
      "cell_type": "code",
      "source": [
        "key_list = list(letters.keys())\n",
        "value_list = list(letters.values())\n",
        "position = value_list.index([1,1,0,1,0,0,1])\n",
        "print(key_list[position])"
      ],
      "metadata": {
        "colab": {
          "base_uri": "https://localhost:8080/"
        },
        "id": "odTt0yjeiFFd",
        "outputId": "f54de660-5e18-4324-a4b1-75e58fa91aaf"
      },
      "execution_count": 65,
      "outputs": [
        {
          "output_type": "stream",
          "name": "stdout",
          "text": [
            "i\n"
          ]
        }
      ]
    },
    {
      "cell_type": "code",
      "source": [
        "letters['C']"
      ],
      "metadata": {
        "colab": {
          "base_uri": "https://localhost:8080/"
        },
        "id": "_Mf5hz7oe9i7",
        "outputId": "47c8d3b6-f4e3-4876-a341-b632d37adc66"
      },
      "execution_count": 4,
      "outputs": [
        {
          "output_type": "execute_result",
          "data": {
            "text/plain": [
              "[1, 0, 0, 0, 0, 1, 1]"
            ]
          },
          "metadata": {},
          "execution_count": 4
        }
      ]
    },
    {
      "cell_type": "code",
      "source": [
        "Clinton = np.array([ [1,0,0,0,0,1,1],\n",
        "                    [1,1,0,1,1,0,0],\n",
        "                    [1,1,0,1,0,0,1],\n",
        "                    [1,1,0,1,1,1,0],\n",
        "                    [1,1,1,0,1,0,0],\n",
        "                    [1,1,0,1,1,1,1],\n",
        "                    [1,1,0,1,1,1,0] ])\n",
        "Hillary = np.array([ [1,0,0,1,0,0,0],\n",
        "                    [1,1,0,1,0,0,1],\n",
        "                    [1,1,0,1,1,0,0],\n",
        "                    [1,1,0,1,1,0,0],\n",
        "                    [1,1,0,0,0,0,1],\n",
        "                    [1,1,1,0,0,1,0],\n",
        "                    [1,1,1,1,0,0,1] ])\n",
        "\n",
        "Kenstar = np.array([ [1,0,0,1,0,1,1],\n",
        "                    [1,1,0,0,1,0,1],\n",
        "                    [1,1,0,1,1,1,0],\n",
        "                    [1,1,1,0,0,1,1],\n",
        "                    [1,1,1,0,1,0,0],\n",
        "                    [1,1,0,0,0,0,1],\n",
        "                    [1,1,1,0,0,1,0] ])\n",
        "\n"
      ],
      "metadata": {
        "id": "gQwgf9StNY6H"
      },
      "execution_count": 5,
      "outputs": []
    },
    {
      "cell_type": "code",
      "source": [
        ""
      ],
      "metadata": {
        "id": "A7yolQ7KfYyi"
      },
      "execution_count": null,
      "outputs": []
    },
    {
      "cell_type": "code",
      "source": [
        "President = np.array([ [1,0,1,0,0,0,0],\n",
        "                    [1,1,1,0,0,1,0],\n",
        "                    [1,1,0,0,1,0,1],\n",
        "                    [1,1,1,0,0,1,1],\n",
        "                    [1,1,0,1,0,0,1],\n",
        "                    [1,1,0,0,1,0,0],\n",
        "                    [1,1,0,0,1,0,1],\n",
        "                    [1,1,0,1,1,1,0],\n",
        "                    [1,1,1,0,1,0,0] ])\n",
        "\n",
        "FirstLady = np.array([ [1,0,0,0,1,1,0],\n",
        "                    [1,1,0,1,0,0,1],\n",
        "                    [1,1,1,0,0,1,0],\n",
        "                    [1,1,1,0,0,1,1],\n",
        "                    [1,1,1,0,1,0,0],\n",
        "                    [1,0,0,1,1,0,0],\n",
        "                    [1,1,0,0,0,0,1],\n",
        "                    [1,1,0,0,1,0,0],\n",
        "                    [1,1,1,1,0,0,1] ])\n",
        "\n",
        "Gentleman = np.array([ [1,0,0,0,1,1,1],\n",
        "                    [1,1,0,0,1,0,1],\n",
        "                    [1,1,0,1,1,1,0],\n",
        "                    [1,1,1,0,1,0,0],\n",
        "                    [1,1,0,1,1,0,0],\n",
        "                    [1,1,0,0,1,0,1],\n",
        "                    [1,1,0,1,1,0,1],\n",
        "                    [1,1,0,0,0,0,1],\n",
        "                    [1,1,0,1,1,1,0] ])"
      ],
      "metadata": {
        "id": "Y5jNWN1EC-KD"
      },
      "execution_count": 6,
      "outputs": []
    },
    {
      "cell_type": "code",
      "source": [
        "S = np.hstack((Clinton.reshape(-1,1), Hillary.reshape(-1,1), Kenstar.reshape(-1,1)))\n",
        "T = np.hstack((President.reshape(-1,1), FirstLady.reshape(-1,1), Gentleman.reshape(-1,1)))"
      ],
      "metadata": {
        "id": "a7e9DGZPF4qz"
      },
      "execution_count": 7,
      "outputs": []
    },
    {
      "cell_type": "code",
      "source": [
        "W = np.zeros((S.shape[0], T.shape[0]))"
      ],
      "metadata": {
        "id": "6KXnnQzVGXuk"
      },
      "execution_count": 8,
      "outputs": []
    },
    {
      "cell_type": "code",
      "source": [
        "for i in range(3):\n",
        "  W += ((2*S[:,i].reshape(-1,1))-1) @ ((2*T[:,i].reshape(-1,1).T)-1)"
      ],
      "metadata": {
        "id": "C8kKjfkLI3Nw"
      },
      "execution_count": 9,
      "outputs": []
    },
    {
      "cell_type": "code",
      "source": [
        "print(W)"
      ],
      "metadata": {
        "colab": {
          "base_uri": "https://localhost:8080/"
        },
        "id": "aqosWbq5JIOd",
        "outputId": "4ca0aa0b-c8fc-4fea-c98f-ff9464f7d8b5"
      },
      "execution_count": 10,
      "outputs": [
        {
          "output_type": "stream",
          "name": "stdout",
          "text": [
            "[[ 3. -3. -1. ...  1. -1. -1.]\n",
            " [-3.  3.  1. ... -1.  1.  1.]\n",
            " [-3.  3.  1. ... -1.  1.  1.]\n",
            " ...\n",
            " [-1.  1.  3. ...  1. -1. -1.]\n",
            " [ 1. -1.  1. ...  3.  1. -3.]\n",
            " [-1.  1. -1. ... -3. -1.  3.]]\n"
          ]
        }
      ]
    },
    {
      "cell_type": "code",
      "source": [
        "def activation_function(input, threshold):\n",
        "  output = np.copy(input)\n",
        "  output[output > threshold] = 1\n",
        "  output[output < threshold] = 0\n",
        "  return output"
      ],
      "metadata": {
        "id": "yHqWMP3OFO-R"
      },
      "execution_count": 11,
      "outputs": []
    },
    {
      "cell_type": "code",
      "source": [
        "def Xout(t, W):\n",
        "    T1 = np.copy(t.reshape(-1, 1))\n",
        "    return activation_function(T1.T @ W.T, 0).astype('int').reshape(7, 7)\n",
        "def Yout(s, W):\n",
        "    S = np.copy(s.reshape(-1, 1))\n",
        "    return activation_function(S.T @ W, 0).astype('int').reshape(9,7)"
      ],
      "metadata": {
        "id": "mZe-fXpIfbF2"
      },
      "execution_count": 12,
      "outputs": []
    },
    {
      "cell_type": "code",
      "source": [
        "for j in range(3):\n",
        "  name_1 = []\n",
        "  for i in range(9):\n",
        "    position_2 = value_list.index(np.ndarray.tolist(T[:,j].reshape(9,7)[i]))\n",
        "    name_1 += key_list[position_2]\n",
        "  name = []\n",
        "  for i in range(7):\n",
        "    position_1 = value_list.index(np.ndarray.tolist(Xout(T[:,j],W)[i]))\n",
        "    name += key_list[position_1]\n",
        "  print('the name of'  + ' ' + name_1[0]+name_1[1]+name_1[2]+name_1[3]+name_1[4]+name_1[5]+name_1[6]+name_1[7]+name_1[8] + ' ' + 'is' + ' ' + name[0]+name[1]+name[2]+name[3]+name[4]+name[5]+name[6])"
      ],
      "metadata": {
        "colab": {
          "base_uri": "https://localhost:8080/"
        },
        "id": "T-ytITgtgHI0",
        "outputId": "f0c724d0-f03a-475d-f3dc-66bec92cf136"
      },
      "execution_count": 13,
      "outputs": [
        {
          "output_type": "stream",
          "name": "stdout",
          "text": [
            "the name of President is Clinton\n",
            "the name of FirstLady is Hillary\n",
            "the name of Gentleman is Kenstar\n"
          ]
        }
      ]
    },
    {
      "cell_type": "code",
      "source": [
        "for j in range(3):\n",
        "  name_2 = []\n",
        "  for i in range(7):\n",
        "    position_3 = value_list.index(np.ndarray.tolist(S[:,j].reshape(7,7)[i]))\n",
        "    name_2 += key_list[position_3]\n",
        "  name_3 = []\n",
        "  for i in range(9):\n",
        "    position_4 = value_list.index(np.ndarray.tolist(Yout(S[:,j],W)[i]))\n",
        "    name_3 += key_list[position_4]\n",
        "  print('the feature of'  + ' ' + name_2[0]+name_2[1]+name_2[2]+name_2[3]+name_2[4]+name_2[5]+name_2[6] + ' ' + 'is' + ' ' + name_3[0]+name_3[1]+name_3[2]+name_3[3]+name_3[4]+name_3[5]+name_3[6]+name_3[7]+name_3[8])"
      ],
      "metadata": {
        "colab": {
          "base_uri": "https://localhost:8080/"
        },
        "id": "aXdoZ09SuJkd",
        "outputId": "d7bb343c-13ba-4f10-eac2-1f55443c2a2f"
      },
      "execution_count": 14,
      "outputs": [
        {
          "output_type": "stream",
          "name": "stdout",
          "text": [
            "the feature of Clinton is President\n",
            "the feature of Hillary is FirstLady\n",
            "the feature of Kenstar is Gentleman\n"
          ]
        }
      ]
    },
    {
      "cell_type": "code",
      "source": [
        "def addingnoise(input, percent):\n",
        "    noisyOutput = input.copy().reshape(-1, 1)\n",
        "    choosenIndices = np.random.choice(noisyOutput.size, int(percent * noisyOutput.size / 100), replace=False)\n",
        "    for index in choosenIndices:\n",
        "        if noisyOutput[index] == 1:\n",
        "            noisyOutput[index] = -1\n",
        "        else:\n",
        "            noisyOutput[index] = 1\n",
        "\n",
        "    return noisyOutput.reshape(input.shape[0], input.shape[1])\n",
        "def similarity_percent(predA, A):\n",
        "    return np.sum((predA == A).astype('int')) / A.size"
      ],
      "metadata": {
        "id": "AysRuCcpXPOP"
      },
      "execution_count": 46,
      "outputs": []
    },
    {
      "cell_type": "code",
      "source": [
        "\n",
        "similarityPercent(Clinton, addingNoise(Clinton,60))"
      ],
      "metadata": {
        "colab": {
          "base_uri": "https://localhost:8080/"
        },
        "id": "waxe2yMdaMq5",
        "outputId": "fd93e761-72fd-4e72-999a-dc3b7c6302f9"
      },
      "execution_count": 45,
      "outputs": [
        {
          "output_type": "execute_result",
          "data": {
            "text/plain": [
              "0.40816326530612246"
            ]
          },
          "metadata": {},
          "execution_count": 45
        }
      ]
    },
    {
      "cell_type": "code",
      "source": [
        "\n",
        "Xout(addingnoise(President,10), W)"
      ],
      "metadata": {
        "colab": {
          "base_uri": "https://localhost:8080/"
        },
        "id": "LX40cW8gR0z5",
        "outputId": "733546b3-7b94-4f31-8a30-25c86757ed8c"
      },
      "execution_count": 33,
      "outputs": [
        {
          "output_type": "execute_result",
          "data": {
            "text/plain": [
              "array([[1, 0, 0, 0, 0, 1, 1],\n",
              "       [1, 1, 0, 1, 1, 0, 0],\n",
              "       [1, 1, 0, 1, 0, 0, 1],\n",
              "       [1, 1, 0, 1, 1, 1, 0],\n",
              "       [1, 1, 1, 0, 1, 0, 0],\n",
              "       [1, 1, 0, 1, 1, 1, 1],\n",
              "       [1, 1, 0, 1, 1, 1, 0]])"
            ]
          },
          "metadata": {},
          "execution_count": 33
        }
      ]
    },
    {
      "cell_type": "code",
      "source": [
        "iteration = 0\n",
        "pc10 = 0\n",
        "ph10 = 0\n",
        "pk10 = 0\n",
        "pp10 = 0\n",
        "pf10 = 0\n",
        "pg10 = 0\n",
        "while iteration < 100:\n",
        "  noisypc10 = addingnoise(Clinton, 10)\n",
        "  noisyph10 = addingnoise(Hillary, 10)\n",
        "  noisypk10 = addingnoise(Kenstar, 10)\n",
        "  noisypp10 = addingnoise(President, 10)\n",
        "  noisypf10 = addingnoise(FirstLady, 10)\n",
        "  noisypg10 = addingnoise(Gentleman, 10)\n",
        "  \n",
        "  predpc10 = Yout(noisypc10, W)\n",
        "  predph10 = Yout(noisyph10, W)\n",
        "  predpk10 = Yout(noisypk10, W)\n",
        "  predpp10 = Xout(noisypp10, W)\n",
        "  predpf10 = Xout(noisypf10, W)\n",
        "  predpg10 = Xout(noisypg10, W)\n",
        "\n",
        "  if similarity_percent(predpc10, President) == 1:\n",
        "    pc10 += 1\n",
        "  if similarity_percent(predph10, FirstLady) == 1:\n",
        "    ph10 += 1\n",
        "  if similarity_percent(predpk10, Gentleman) == 1:\n",
        "    pk10 += 1\n",
        "  if similarity_percent(predpp10, Clinton) == 1:\n",
        "    pp10 += 1\n",
        "  if similarity_percent(predpf10, Hillary) == 1:\n",
        "    pf10 += 1\n",
        "  if similarity_percent(predpg10, Kenstar) == 1:\n",
        "    pg10 += 1\n",
        "  iteration += 1\n",
        "print('In %f percent of times when we have 10 percent noise, we can completely restore feature of Clinton'%int(pc10))\n",
        "print('In %f percent of times when we have 10 percent noise, we can completely restore feature of Hillary'%int(ph10))\n",
        "print('In %f percent of times when we have 10 percent noise, we can completely restore feature of Kenstar'%int(pk10))\n",
        "print('In %f percent of times when we have 10 percent noise, we can completely restore name of President'%int(pp10))\n",
        "print('In %f percent of times when we have 10 percent noise, we can completely restore name of FirstLady'%int(pf10))\n",
        "print('In %f percent of times when we have 10 percent noise, we can completely restore name of Gentleman'%int(pg10))\n",
        "\n"
      ],
      "metadata": {
        "colab": {
          "base_uri": "https://localhost:8080/"
        },
        "id": "jVDIbu-_VLm7",
        "outputId": "c9404d8e-b9c3-4c9c-8677-2b112208c037"
      },
      "execution_count": 47,
      "outputs": [
        {
          "output_type": "stream",
          "name": "stdout",
          "text": [
            "In 94.000000 percent of times when we have 10 percent noise, we can completely restore feature of Clinton\n",
            "In 60.000000 percent of times when we have 10 percent noise, we can completely restore feature of Hillary\n",
            "In 74.000000 percent of times when we have 10 percent noise, we can completely restore feature of Kenstar\n",
            "In 82.000000 percent of times when we have 10 percent noise, we can completely restore name of President\n",
            "In 63.000000 percent of times when we have 10 percent noise, we can completely restore name of FirstLady\n",
            "In 96.000000 percent of times when we have 10 percent noise, we can completely restore name of Gentleman\n"
          ]
        }
      ]
    },
    {
      "cell_type": "code",
      "source": [
        "iteration2 = 0\n",
        "pc20 = 0\n",
        "ph20 = 0\n",
        "pk20 = 0\n",
        "pp20 = 0\n",
        "pf20 = 0\n",
        "pg20 = 0\n",
        "while iteration2 < 100:\n",
        "  noisypc20 = addingnoise(Clinton, 20)\n",
        "  noisyph20 = addingnoise(Hillary, 20)\n",
        "  noisypk20 = addingnoise(Kenstar, 20)\n",
        "  noisypp20 = addingnoise(President, 20)\n",
        "  noisypf20 = addingnoise(FirstLady, 20)\n",
        "  noisypg20 = addingnoise(Gentleman, 20)\n",
        "  \n",
        "  predpc20 = Yout(noisypc20, W)\n",
        "  predph20 = Yout(noisyph20, W)\n",
        "  predpk20 = Yout(noisypk20, W)\n",
        "  predpp20 = Xout(noisypp20, W)\n",
        "  predpf20 = Xout(noisypf20, W)\n",
        "  predpg20 = Xout(noisypg20, W)\n",
        "\n",
        "  if similarity_percent(predpc20, President) == 1:\n",
        "    pc20 += 1\n",
        "  if similarity_percent(predph20, FirstLady) == 1:\n",
        "    ph20 += 1\n",
        "  if similarity_percent(predpk20, Gentleman) == 1:\n",
        "    pk20 += 1\n",
        "  if similarity_percent(predpp20, Clinton) == 1:\n",
        "    pp20 += 1\n",
        "  if similarity_percent(predpf20, Hillary) == 1:\n",
        "    pf20 += 1\n",
        "  if similarity_percent(predpg20, Kenstar) == 1:\n",
        "    pg20 += 1\n",
        "  iteration2 += 1\n",
        "print('In %f percent of times when we have 20 percent noise, we can completely restore feature of Clinton'%int(pc20))\n",
        "print('In %f percent of times when we have 20 percent noise, we can completely restore feature of Hillary'%int(ph20))\n",
        "print('In %f percent of times when we have 20 percent noise, we can completely restore feature of Kenstar'%int(pk20))\n",
        "print('In %f percent of times when we have 20 percent noise, we can completely restore name of President'%int(pp20))\n",
        "print('In %f percent of times when we have 20 percent noise, we can completely restore name of FirstLady'%int(pf20))\n",
        "print('In %f percent of times when we have 20 percent noise, we can completely restore name of Gentleman'%int(pg20))"
      ],
      "metadata": {
        "colab": {
          "base_uri": "https://localhost:8080/"
        },
        "id": "3nw3qWoVUjm9",
        "outputId": "98ede090-8289-49ff-becd-a80d7ddc1da5"
      },
      "execution_count": 48,
      "outputs": [
        {
          "output_type": "stream",
          "name": "stdout",
          "text": [
            "In 81.000000 percent of times when we have 20 percent noise, we can completely restore feature of Clinton\n",
            "In 35.000000 percent of times when we have 20 percent noise, we can completely restore feature of Hillary\n",
            "In 53.000000 percent of times when we have 20 percent noise, we can completely restore feature of Kenstar\n",
            "In 69.000000 percent of times when we have 20 percent noise, we can completely restore name of President\n",
            "In 52.000000 percent of times when we have 20 percent noise, we can completely restore name of FirstLady\n",
            "In 84.000000 percent of times when we have 20 percent noise, we can completely restore name of Gentleman\n"
          ]
        }
      ]
    },
    {
      "cell_type": "code",
      "source": [
        "Lewisky = np.array([ [1,0,0,1,1,0,0],\n",
        "                    [1,1,0,0,1,0,1],\n",
        "                    [1,1,1,0,1,1,1],\n",
        "                    [1,1,0,1,0,0,1],\n",
        "                    [1,1,1,0,0,1,1],\n",
        "                    [1,1,0,1,0,1,1],\n",
        "                    [1,1,1,1,0,0,1] ])\n",
        "SweetGirl = np.array([ [1,0,1,0,0,1,1],\n",
        "                    [1,1,1,0,1,1,1],\n",
        "                    [1,1,0,0,1,0,1],\n",
        "                    [1,1,0,0,1,0,1],\n",
        "                    [1,1,1,0,1,0,0],\n",
        "                    [1,0,0,0,1,1,1],\n",
        "                    [1,1,0,1,0,0,1],\n",
        "                    [1,1,1,0,0,1,0],\n",
        "                    [1,1,0,1,1,0,0] ])"
      ],
      "metadata": {
        "id": "EUiXPEv8faMU"
      },
      "execution_count": 57,
      "outputs": []
    },
    {
      "cell_type": "code",
      "source": [
        "S_prime = np.hstack((Clinton.reshape(-1,1), Hillary.reshape(-1,1), Kenstar.reshape(-1,1), Lewisky.reshape(-1,1)))\n",
        "T_prime = np.hstack((President.reshape(-1,1), FirstLady.reshape(-1,1), Gentleman.reshape(-1,1), SweetGirl.reshape(-1,1)))"
      ],
      "metadata": {
        "id": "P4kLoq6jjXQ9"
      },
      "execution_count": 59,
      "outputs": []
    },
    {
      "cell_type": "code",
      "source": [
        "W_prime = np.zeros((S_prime.shape[0], T_prime.shape[0]))"
      ],
      "metadata": {
        "id": "HkW6HWyfj0OT"
      },
      "execution_count": 75,
      "outputs": []
    },
    {
      "cell_type": "code",
      "source": [
        "for i in range(4):\n",
        "  W_prime += ((2*S_prime[:,i].reshape(-1,1))-1) @ ((2*T_prime[:,i].reshape(-1,1).T)-1)"
      ],
      "metadata": {
        "id": "pYlRtz-ukCFg"
      },
      "execution_count": 76,
      "outputs": []
    },
    {
      "cell_type": "code",
      "source": [
        "for j in range(4):\n",
        "  name_5 = []\n",
        "  for i in range(9):\n",
        "    position_5 = value_list.index(np.ndarray.tolist(T_prime[:,j].reshape(9,7)[i]))\n",
        "    name_5 += key_list[position_5]\n",
        "  name_6 = []\n",
        "  for i in range(7):\n",
        "    position_6 = value_list.index(np.ndarray.tolist(Xout(T_prime[:,j],W_prime)[i]))\n",
        "    name_6 += key_list[position_6]\n",
        "  print('the name of'  + ' ' + name_5[0]+name_5[1]+name_5[2]+name_5[3]+name_5[4]+name_5[5]+name_5[6]+name_5[7]+name_5[8] + ' ' + 'is' + ' ' + name_6[0]+name_6[1]+name_6[2]+name_6[3]+name_6[4]+name_6[5]+name_6[6])"
      ],
      "metadata": {
        "colab": {
          "base_uri": "https://localhost:8080/",
          "height": 269
        },
        "id": "OEXFUidbkkvh",
        "outputId": "f7960132-9dec-4317-fb18-69ca7975ff38"
      },
      "execution_count": 77,
      "outputs": [
        {
          "output_type": "stream",
          "name": "stdout",
          "text": [
            "the name of President is Lemisky\n"
          ]
        },
        {
          "output_type": "error",
          "ename": "ValueError",
          "evalue": "ignored",
          "traceback": [
            "\u001b[0;31m---------------------------------------------------------------------------\u001b[0m",
            "\u001b[0;31mValueError\u001b[0m                                Traceback (most recent call last)",
            "\u001b[0;32m<ipython-input-77-5e26a482ffef>\u001b[0m in \u001b[0;36m<module>\u001b[0;34m()\u001b[0m\n\u001b[1;32m      6\u001b[0m   \u001b[0mname_6\u001b[0m \u001b[0;34m=\u001b[0m \u001b[0;34m[\u001b[0m\u001b[0;34m]\u001b[0m\u001b[0;34m\u001b[0m\u001b[0;34m\u001b[0m\u001b[0m\n\u001b[1;32m      7\u001b[0m   \u001b[0;32mfor\u001b[0m \u001b[0mi\u001b[0m \u001b[0;32min\u001b[0m \u001b[0mrange\u001b[0m\u001b[0;34m(\u001b[0m\u001b[0;36m7\u001b[0m\u001b[0;34m)\u001b[0m\u001b[0;34m:\u001b[0m\u001b[0;34m\u001b[0m\u001b[0;34m\u001b[0m\u001b[0m\n\u001b[0;32m----> 8\u001b[0;31m     \u001b[0mposition_6\u001b[0m \u001b[0;34m=\u001b[0m \u001b[0mvalue_list\u001b[0m\u001b[0;34m.\u001b[0m\u001b[0mindex\u001b[0m\u001b[0;34m(\u001b[0m\u001b[0mnp\u001b[0m\u001b[0;34m.\u001b[0m\u001b[0mndarray\u001b[0m\u001b[0;34m.\u001b[0m\u001b[0mtolist\u001b[0m\u001b[0;34m(\u001b[0m\u001b[0mXout\u001b[0m\u001b[0;34m(\u001b[0m\u001b[0mT_prime\u001b[0m\u001b[0;34m[\u001b[0m\u001b[0;34m:\u001b[0m\u001b[0;34m,\u001b[0m\u001b[0mj\u001b[0m\u001b[0;34m]\u001b[0m\u001b[0;34m,\u001b[0m\u001b[0mW_prime\u001b[0m\u001b[0;34m)\u001b[0m\u001b[0;34m[\u001b[0m\u001b[0mi\u001b[0m\u001b[0;34m]\u001b[0m\u001b[0;34m)\u001b[0m\u001b[0;34m)\u001b[0m\u001b[0;34m\u001b[0m\u001b[0;34m\u001b[0m\u001b[0m\n\u001b[0m\u001b[1;32m      9\u001b[0m     \u001b[0mname_6\u001b[0m \u001b[0;34m+=\u001b[0m \u001b[0mkey_list\u001b[0m\u001b[0;34m[\u001b[0m\u001b[0mposition_6\u001b[0m\u001b[0;34m]\u001b[0m\u001b[0;34m\u001b[0m\u001b[0;34m\u001b[0m\u001b[0m\n\u001b[1;32m     10\u001b[0m   \u001b[0mprint\u001b[0m\u001b[0;34m(\u001b[0m\u001b[0;34m'the name of'\u001b[0m  \u001b[0;34m+\u001b[0m \u001b[0;34m' '\u001b[0m \u001b[0;34m+\u001b[0m \u001b[0mname_5\u001b[0m\u001b[0;34m[\u001b[0m\u001b[0;36m0\u001b[0m\u001b[0;34m]\u001b[0m\u001b[0;34m+\u001b[0m\u001b[0mname_5\u001b[0m\u001b[0;34m[\u001b[0m\u001b[0;36m1\u001b[0m\u001b[0;34m]\u001b[0m\u001b[0;34m+\u001b[0m\u001b[0mname_5\u001b[0m\u001b[0;34m[\u001b[0m\u001b[0;36m2\u001b[0m\u001b[0;34m]\u001b[0m\u001b[0;34m+\u001b[0m\u001b[0mname_5\u001b[0m\u001b[0;34m[\u001b[0m\u001b[0;36m3\u001b[0m\u001b[0;34m]\u001b[0m\u001b[0;34m+\u001b[0m\u001b[0mname_5\u001b[0m\u001b[0;34m[\u001b[0m\u001b[0;36m4\u001b[0m\u001b[0;34m]\u001b[0m\u001b[0;34m+\u001b[0m\u001b[0mname_5\u001b[0m\u001b[0;34m[\u001b[0m\u001b[0;36m5\u001b[0m\u001b[0;34m]\u001b[0m\u001b[0;34m+\u001b[0m\u001b[0mname_5\u001b[0m\u001b[0;34m[\u001b[0m\u001b[0;36m6\u001b[0m\u001b[0;34m]\u001b[0m\u001b[0;34m+\u001b[0m\u001b[0mname_5\u001b[0m\u001b[0;34m[\u001b[0m\u001b[0;36m7\u001b[0m\u001b[0;34m]\u001b[0m\u001b[0;34m+\u001b[0m\u001b[0mname_5\u001b[0m\u001b[0;34m[\u001b[0m\u001b[0;36m8\u001b[0m\u001b[0;34m]\u001b[0m \u001b[0;34m+\u001b[0m \u001b[0;34m' '\u001b[0m \u001b[0;34m+\u001b[0m \u001b[0;34m'is'\u001b[0m \u001b[0;34m+\u001b[0m \u001b[0;34m' '\u001b[0m \u001b[0;34m+\u001b[0m \u001b[0mname_6\u001b[0m\u001b[0;34m[\u001b[0m\u001b[0;36m0\u001b[0m\u001b[0;34m]\u001b[0m\u001b[0;34m+\u001b[0m\u001b[0mname_6\u001b[0m\u001b[0;34m[\u001b[0m\u001b[0;36m1\u001b[0m\u001b[0;34m]\u001b[0m\u001b[0;34m+\u001b[0m\u001b[0mname_6\u001b[0m\u001b[0;34m[\u001b[0m\u001b[0;36m2\u001b[0m\u001b[0;34m]\u001b[0m\u001b[0;34m+\u001b[0m\u001b[0mname_6\u001b[0m\u001b[0;34m[\u001b[0m\u001b[0;36m3\u001b[0m\u001b[0;34m]\u001b[0m\u001b[0;34m+\u001b[0m\u001b[0mname_6\u001b[0m\u001b[0;34m[\u001b[0m\u001b[0;36m4\u001b[0m\u001b[0;34m]\u001b[0m\u001b[0;34m+\u001b[0m\u001b[0mname_6\u001b[0m\u001b[0;34m[\u001b[0m\u001b[0;36m5\u001b[0m\u001b[0;34m]\u001b[0m\u001b[0;34m+\u001b[0m\u001b[0mname_6\u001b[0m\u001b[0;34m[\u001b[0m\u001b[0;36m6\u001b[0m\u001b[0;34m]\u001b[0m\u001b[0;34m)\u001b[0m\u001b[0;34m\u001b[0m\u001b[0;34m\u001b[0m\u001b[0m\n",
            "\u001b[0;31mValueError\u001b[0m: [1, 1, 1, 0, 0, 0, 1] is not in list"
          ]
        }
      ]
    },
    {
      "cell_type": "code",
      "source": [
        ""
      ],
      "metadata": {
        "id": "10H9w9Ewx5gw"
      },
      "execution_count": null,
      "outputs": []
    },
    {
      "cell_type": "code",
      "source": [
        "for j in range(4):\n",
        "  print(Xout(T_prime[:,j],W_prime))"
      ],
      "metadata": {
        "colab": {
          "base_uri": "https://localhost:8080/"
        },
        "id": "8LWtTOojnYjN",
        "outputId": "96128b1d-845e-4218-dd88-e2c9b5c6e903"
      },
      "execution_count": 78,
      "outputs": [
        {
          "output_type": "stream",
          "name": "stdout",
          "text": [
            "[[1 0 0 1 1 0 0]\n",
            " [1 1 0 0 1 0 1]\n",
            " [1 1 0 1 1 0 1]\n",
            " [1 1 0 1 0 0 1]\n",
            " [1 1 1 0 0 1 1]\n",
            " [1 1 0 1 0 1 1]\n",
            " [1 1 1 1 0 0 1]]\n",
            "[[1 0 0 1 0 0 0]\n",
            " [1 1 0 0 1 0 1]\n",
            " [1 1 0 1 1 0 0]\n",
            " [1 1 0 1 0 0 1]\n",
            " [1 1 1 0 0 0 1]\n",
            " [1 1 0 0 0 1 1]\n",
            " [1 1 1 1 0 0 1]]\n",
            "[[1 0 0 1 0 0 0]\n",
            " [1 1 0 0 1 0 1]\n",
            " [1 1 0 1 1 1 0]\n",
            " [1 1 0 1 0 0 1]\n",
            " [1 1 1 0 0 0 1]\n",
            " [1 1 0 0 0 1 1]\n",
            " [1 1 1 1 0 0 1]]\n",
            "[[1 0 0 1 1 0 0]\n",
            " [1 1 0 0 1 0 1]\n",
            " [1 1 0 1 1 1 1]\n",
            " [1 1 0 1 0 0 1]\n",
            " [1 1 1 0 0 1 1]\n",
            " [1 1 0 1 0 1 1]\n",
            " [1 1 1 1 0 0 1]]\n"
          ]
        }
      ]
    }
  ]
}