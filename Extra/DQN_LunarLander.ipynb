{
  "cells": [
    {
      "cell_type": "code",
      "execution_count": null,
      "metadata": {
        "id": "B5S1SyylO8VI"
      },
      "outputs": [],
      "source": [
        "# install dependencies\n",
        "!pip3 install gym --upgrade\n",
        "!pip3 install pyglet\n",
        "!pip3 install Box2D\n",
        "!pip3 install box2d-py\n",
        "!pip3 install gym[Box_2D]\n",
        "!pip3 install gym[box2d]"
      ]
    },
    {
      "cell_type": "code",
      "execution_count": null,
      "metadata": {
        "colab": {
          "base_uri": "https://localhost:8080/"
        },
        "id": "V5j3em8QPiXT",
        "outputId": "2c7cfa8f-e7ee-494a-e605-aab13f09583f"
      },
      "outputs": [
        {
          "output_type": "execute_result",
          "data": {
            "text/plain": [
              "device(type='cuda')"
            ]
          },
          "metadata": {},
          "execution_count": 3
        }
      ],
      "source": [
        "import torch\n",
        "\n",
        "# if gpu is to be used\n",
        "device = torch.device(\"cuda\" if torch.cuda.is_available() else \"cpu\")\n",
        "device"
      ]
    },
    {
      "cell_type": "code",
      "execution_count": null,
      "metadata": {
        "id": "AMgs5pl6Psif"
      },
      "outputs": [],
      "source": [
        "# enviroment\n",
        "import gym\n",
        "\n",
        "env = gym.make('LunarLander-v2')\n",
        "state_size =  #TODO: find observation size\n",
        "action_size =  #TODO: find action size"
      ]
    },
    {
      "cell_type": "code",
      "execution_count": null,
      "metadata": {
        "id": "-cVE_4EtPyNz"
      },
      "outputs": [],
      "source": [
        "# experience replay\n",
        "import random\n",
        "from collections import namedtuple, deque\n",
        "\n",
        "Transition = namedtuple('Transition',\n",
        "                        ('state', 'action', 'next_state', 'reward', 'done'))\n",
        "\n",
        "\n",
        "class ExperienceReplay():\n",
        "    def __init__(self, capacity) -> None:\n",
        "        self.memory = deque([], maxlen=capacity)\n",
        "        \n",
        "    def store_trans(self, s, a, sp, r, done):\n",
        "        # TODO: store new transition in memory\n",
        "        pass\n",
        "\n",
        "    def sample(self, batch_size):\n",
        "        # TODO: take RANDOM sample from memory\n",
        "        pass\n",
        "\n",
        "    def __len__(self):\n",
        "        return len(self.memory)"
      ]
    },
    {
      "cell_type": "code",
      "source": [
        "# DQN\n",
        "import torch.nn as nn\n",
        "import torch.nn.functional as F\n",
        "\n",
        "class DeepQNetwork(nn.Module):\n",
        "    def __init__(self, state_size, action_size) -> None:\n",
        "        super(DeepQNetwork, self).__init__()\n",
        "        # TODO: define the architecture\n",
        "        # NOTE: input=observation/state, output=action\n",
        "        pass\n",
        "\n",
        "    def forward(self, x):\n",
        "        # TODO: forward propagation\n",
        "        # NOTE: use ReLu for activation function in all layers \n",
        "        # NOTE: last layer has no activation function (predict action)\n",
        "        pass"
      ],
      "metadata": {
        "id": "pUgDbqH4NWYZ"
      },
      "execution_count": null,
      "outputs": []
    },
    {
      "cell_type": "markdown",
      "source": [
        "## DQN"
      ],
      "metadata": {
        "id": "wgMI1JCLMuaf"
      }
    },
    {
      "cell_type": "code",
      "execution_count": null,
      "metadata": {
        "id": "mxLkRp2_P05m"
      },
      "outputs": [],
      "source": [
        "# DQN agent\n",
        "import numpy as np\n",
        "import torch\n",
        "import torch.nn as nn\n",
        "import torch.nn.functional as F\n",
        "import torch.optim as optim\n",
        "\n",
        "class DQNAgent():\n",
        "    # NOTE: DON'T change initial values\n",
        "    def __init__(self, state_size, action_size, batch_size,\n",
        "                 gamma=0.99, buffer_size=25000, alpha=1e-4):\n",
        "        # network parameter\n",
        "        self.state_size = state_size\n",
        "        self.action_size = action_size\n",
        "\n",
        "        # hyperparameters\n",
        "        self.batch_size = batch_size\n",
        "        self.gamma = gamma\n",
        "\n",
        "        # experience replay\n",
        "        self.experience_replay = ExperienceReplay(buffer_size)\n",
        "\n",
        "        # network\n",
        "        self.value_net = DeepQNetwork(state_size, action_size).to(device)\n",
        "\n",
        "        # optimizer\n",
        "        # TODO: create adam for optimizing network's parameter (learning rate=alpha)\n",
        "\n",
        "    def take_action(self, state, eps=0.0):\n",
        "        # TODO: take action using e-greedy policy\n",
        "        # NOTE: takes action using the greedy policy with a probability of 1−𝜖 and a random action with a probability of 𝜖\n",
        "        # NOTE: \n",
        "        pass\n",
        "\n",
        "    def update_params(self):\n",
        "        if len(self.replay_buffer) < self.batch_size:\n",
        "            return\n",
        "        # transition batch\n",
        "        batch = Transition(*zip(*self.replay_buffer.sample(self.batch_size)))\n",
        "\n",
        "        state_batch = torch.from_numpy(np.vstack(batch.state)).float().to(device)\n",
        "        action_batch = torch.tensor(np.vstack(batch.action)).long().to(device)\n",
        "        next_state_batch = torch.from_numpy(np.vstack(batch.next_state)).float().to(device)\n",
        "        reward_batch = torch.tensor(np.vstack(batch.reward)).float().to(device)\n",
        "        done_batch = torch.tensor(np.vstack(batch.done)).to(device)\n",
        "\n",
        "        # calculate loss w.r.t DQN algorithm\n",
        "\n",
        "        # STEP1\n",
        "        # TODO: compute the expected Q values [y]\n",
        "\n",
        "        # STEP2\n",
        "        # TODO: compute Q values [Q(s_t, a)]\n",
        "\n",
        "        # STEP3\n",
        "        # TODO: compute mse loss\n",
        "\n",
        "        # TODO: optimize the model\n",
        "        # NOTE: DON'T forget to set the gradients to zeros\n",
        "\n",
        "    def save(self, fname):\n",
        "        # TODO: save checkpoint\n",
        "        pass\n",
        "\n",
        "    def load(self, fname, device):\n",
        "        # TODO: load checkpoint\n",
        "        pass"
      ]
    },
    {
      "cell_type": "code",
      "source": [
        "# NOTE: DON'T change values\n",
        "n_episodes = 250\n",
        "eps = 1.0\n",
        "eps_decay_rate = 0.97\n",
        "eps_end = 0.01"
      ],
      "metadata": {
        "id": "sqAOFUBb90wh"
      },
      "execution_count": null,
      "outputs": []
    },
    {
      "cell_type": "code",
      "execution_count": null,
      "metadata": {
        "id": "ScM-yfC1P3md"
      },
      "outputs": [],
      "source": [
        "# training phase\n",
        "\n",
        "# TODO: create agent\n",
        "\n",
        "crs = np.zeros(n_episodes) # cummulative rewards\n",
        "crs_recent = deque(maxlen=25) # recent cummulative rewards\n",
        "\n",
        "# training loop\n",
        "for i_episode in range(1, n_episodes+1):\n",
        "    # TODO: initialize the environment and state\n",
        "\n",
        "    cr = 0 # episode cummulative rewards\n",
        "    while not done:\n",
        "        # TODO: select and perform an action\n",
        "\n",
        "        # TODO: store transition in experience replay\n",
        "        \n",
        "        # TODO: update agent\n",
        "        \n",
        "        # TODO: update current state and episode cummulative rewards\n",
        "    \n",
        "    # TODO: decay epsilon\n",
        "    \n",
        "    # TODO: update current cummulative rewards and recent cummulative rewards\n",
        "\n",
        "    # TODO: save agent every 50 episodes\n",
        "\n",
        "    # print logs\n",
        "    print('\\rEpisode {}\\tAverage Reward: {:.2f}\\tEpsilon: {:.2f}'.format(i_episode, np.mean(crs_recent), eps), end=\"\")\n",
        "    if i_episode % 25 == 0:\n",
        "        print('\\rEpisode {}\\tAverage Reward: {:.2f}\\tEpsilon: {:.2f}'.format(i_episode, np.mean(crs_recent), eps))"
      ]
    },
    {
      "cell_type": "markdown",
      "source": [
        "## DDQN"
      ],
      "metadata": {
        "id": "3lXfgBFOMx0G"
      }
    },
    {
      "cell_type": "code",
      "source": [
        "import numpy as np\n",
        "import torch\n",
        "import torch.nn as nn\n",
        "import torch.nn.functional as F\n",
        "import torch.optim as optim\n",
        "\n",
        "class DDQNAgent():\n",
        "    # NOTE: DON'T change initial values\n",
        "    def __init__(self, state_size, action_size, batch_size,\n",
        "                 gamma=0.99, buffer_size=25000, alpha=1e-4):\n",
        "        # network parameter\n",
        "        self.state_size = state_size\n",
        "        self.action_size = action_size\n",
        "\n",
        "        # hyperparameters\n",
        "        self.batch_size = batch_size\n",
        "        self.gamma = gamma\n",
        "\n",
        "        # experience replay\n",
        "        self.replay_buffer = ReplayBuffer(buffer_size)\n",
        "\n",
        "        # networks\n",
        "        self.value_net = DeepQNetwork(state_size, action_size).to(device)\n",
        "        self.target_value_net = DeepQNetwork(state_size, action_size).to(device)\n",
        "        self.update_target_network()\n",
        "\n",
        "        # optimizer\n",
        "        # TODO: create adam for optimizing network's parameter (learning rate=alpha)\n",
        "        # NOTE: target network parameters DOSEN'T update with optimizer\n",
        "\n",
        "    def take_action(self, state, eps=0.0):\n",
        "        # TODO: take action using e-greedy policy\n",
        "        # NOTE: takes action using the greedy policy with a probability of 1−𝜖 and a random action with a probability of 𝜖\n",
        "        # NOTE:\n",
        "        pass\n",
        "\n",
        "    def update_params(self):\n",
        "        if len(self.replay_buffer) < self.batch_size:\n",
        "            return\n",
        "        # transition batch\n",
        "        batch = Transition(*zip(*self.replay_buffer.sample(self.batch_size)))\n",
        "\n",
        "        state_batch = torch.from_numpy(np.vstack(batch.state)).float().to(device)\n",
        "        action_batch = torch.tensor(np.vstack(batch.action)).long().to(device)\n",
        "        next_state_batch = torch.from_numpy(np.vstack(batch.next_state)).float().to(device)\n",
        "        reward_batch = torch.tensor(np.vstack(batch.reward)).float().to(device)\n",
        "        done_batch = torch.tensor(np.vstack(batch.done)).to(device)\n",
        "\n",
        "        # calculate loss w.r.t DQN algorithm\n",
        "\n",
        "        # STEP1\n",
        "        # TODO: compute the expected Q values [y]\n",
        "\n",
        "        # STEP2\n",
        "        # TODO: compute Q values [Q(s_t, a)]\n",
        "\n",
        "        # STEP3\n",
        "        # TODO: compute mse loss\n",
        "\n",
        "        # TODO: optimize the model\n",
        "        # NOTE: DON'T forget to set the gradients to zeros\n",
        "\n",
        "    def update_target_network(self):\n",
        "        # TODO: copy main network parameters to target network parameters\n",
        "    \n",
        "    def save(self, fname):\n",
        "        # TODO: save checkpoint\n",
        "        pass\n",
        "\n",
        "    def load(self, fname, device):\n",
        "        # TODO: load checkpoint\n",
        "        pass"
      ],
      "metadata": {
        "id": "ifTBKlEigZEu"
      },
      "execution_count": null,
      "outputs": []
    },
    {
      "cell_type": "code",
      "source": [
        "# training phase\n",
        "\n",
        "# TODO: create agent\n",
        "\n",
        "crs = np.zeros(n_episodes) # cummulative rewards\n",
        "crs_recent = deque(maxlen=25) # recent cummulative rewards\n",
        "\n",
        "# training loop\n",
        "for i_episode in range(1, n_episodes+1):\n",
        "    # TODO: initialize the environment and state\n",
        "\n",
        "    cr = 0 # episode cummulative rewards\n",
        "    while not done:\n",
        "        # TODO: select and perform an action\n",
        "\n",
        "        # TODO: store transition in experience replay\n",
        "        \n",
        "        # TODO: update agent\n",
        "        \n",
        "        # TODO: update current state and episode cummulative rewards\n",
        "    \n",
        "    # TODO: decay epsilon\n",
        "\n",
        "    # TODO: update current cummulative rewards and recent cummulative rewards\n",
        "\n",
        "    # TODO: save agent every 50 episodes\n",
        "\n",
        "    # print logs\n",
        "    print('\\rEpisode {}\\tAverage Reward: {:.2f}\\tEpsilon: {:.2f}'.format(i_episode, np.mean(crs_recent), eps), end=\"\")\n",
        "    if i_episode % 25 == 0:\n",
        "        print('\\rEpisode {}\\tAverage Reward: {:.2f}\\tEpsilon: {:.2f}'.format(i_episode, np.mean(crs_recent), eps))"
      ],
      "metadata": {
        "id": "hnSaedlKjnQe"
      },
      "execution_count": null,
      "outputs": []
    },
    {
      "cell_type": "code",
      "source": [
        ""
      ],
      "metadata": {
        "id": "qnoK-4dpooFG"
      },
      "execution_count": null,
      "outputs": []
    }
  ],
  "metadata": {
    "accelerator": "GPU",
    "colab": {
      "name": "DQN_LunarLander_HW.ipynb",
      "provenance": [],
      "collapsed_sections": []
    },
    "kernelspec": {
      "display_name": "Python 3",
      "name": "python3"
    },
    "language_info": {
      "name": "python"
    }
  },
  "nbformat": 4,
  "nbformat_minor": 0
}